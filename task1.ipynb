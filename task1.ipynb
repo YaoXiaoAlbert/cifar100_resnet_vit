{
 "cells": [
  {
   "cell_type": "markdown",
   "id": "2d7e6a18-d4bd-413a-9c9f-d95ce6f97113",
   "metadata": {},
   "source": [
    "# 导入module"
   ]
  },
  {
   "cell_type": "code",
   "execution_count": null,
   "id": "dab19e74-ac69-484f-808f-7852e9b18a5d",
   "metadata": {},
   "outputs": [],
   "source": [
    "import torch\n",
    "import torch.nn as nn\n",
    "import torch.optim as optim\n",
    "from torchvision.models import resnet18\n",
    "import torchvision.transforms as transforms\n",
    "import torchvision.datasets as datasets\n",
    "from torch.utils.data import DataLoader\n",
    "from tqdm import tqdm\n",
    "\n",
    "device = torch.device('cuda')"
   ]
  },
  {
   "cell_type": "markdown",
   "id": "240e4e78-c919-4528-850d-0b33f40d29f5",
   "metadata": {},
   "source": [
    "# 1. 自监督学习"
   ]
  },
  {
   "cell_type": "markdown",
   "id": "f8899450-bc38-4bba-9b3f-b657f805021b",
   "metadata": {},
   "source": [
    "## 1.1 对比学习"
   ]
  },
  {
   "cell_type": "code",
   "execution_count": 12,
   "id": "8d8dd372-35ea-418c-b9df-044d3ae8d73a",
   "metadata": {},
   "outputs": [
    {
     "name": "stdout",
     "output_type": "stream",
     "text": [
      "Files already downloaded and verified\n"
     ]
    },
    {
     "name": "stderr",
     "output_type": "stream",
     "text": [
      "Epoch 1/50: 100%|██████████| 391/391 [03:30<00:00,  1.86it/s, loss=7.32] \n"
     ]
    },
    {
     "name": "stdout",
     "output_type": "stream",
     "text": [
      "Epoch [1/50] completed.\n",
      "Allocated memory: 1982695936 bytes\n",
      "Reserved memory: 18452840448 bytes\n",
      "Epoch [1/50], Loss: 17.0222\n"
     ]
    },
    {
     "name": "stderr",
     "output_type": "stream",
     "text": [
      "Epoch 2/50: 100%|██████████| 391/391 [04:21<00:00,  1.49it/s, loss=5.56]\n"
     ]
    },
    {
     "name": "stdout",
     "output_type": "stream",
     "text": [
      "Epoch [2/50] completed.\n",
      "Allocated memory: 1982695936 bytes\n",
      "Reserved memory: 18452840448 bytes\n",
      "Epoch [2/50], Loss: 6.1618\n"
     ]
    },
    {
     "name": "stderr",
     "output_type": "stream",
     "text": [
      "Epoch 3/50: 100%|██████████| 391/391 [03:45<00:00,  1.73it/s, loss=5.42]\n"
     ]
    },
    {
     "name": "stdout",
     "output_type": "stream",
     "text": [
      "Epoch [3/50] completed.\n",
      "Allocated memory: 1982695936 bytes\n",
      "Reserved memory: 18452840448 bytes\n",
      "Epoch [3/50], Loss: 6.0214\n"
     ]
    },
    {
     "name": "stderr",
     "output_type": "stream",
     "text": [
      "Epoch 5/50: 100%|██████████| 391/391 [03:26<00:00,  1.90it/s, loss=5.14]\n"
     ]
    },
    {
     "name": "stdout",
     "output_type": "stream",
     "text": [
      "Epoch [5/50] completed.\n",
      "Allocated memory: 1982695936 bytes\n",
      "Reserved memory: 18452840448 bytes\n",
      "Epoch [5/50], Loss: 5.5735\n"
     ]
    },
    {
     "name": "stderr",
     "output_type": "stream",
     "text": [
      "Epoch 6/50: 100%|██████████| 391/391 [03:27<00:00,  1.89it/s, loss=4.68]\n"
     ]
    },
    {
     "name": "stdout",
     "output_type": "stream",
     "text": [
      "Epoch [6/50] completed.\n",
      "Allocated memory: 1982695936 bytes\n",
      "Reserved memory: 18452840448 bytes\n",
      "Epoch [6/50], Loss: 5.1602\n"
     ]
    },
    {
     "name": "stderr",
     "output_type": "stream",
     "text": [
      "Epoch 7/50: 100%|██████████| 391/391 [04:08<00:00,  1.57it/s, loss=3.82]\n"
     ]
    },
    {
     "name": "stdout",
     "output_type": "stream",
     "text": [
      "Epoch [7/50] completed.\n",
      "Allocated memory: 1982695936 bytes\n",
      "Reserved memory: 18452840448 bytes\n",
      "Epoch [7/50], Loss: 4.6693\n"
     ]
    },
    {
     "name": "stderr",
     "output_type": "stream",
     "text": [
      "Epoch 8/50: 100%|██████████| 391/391 [03:44<00:00,  1.74it/s, loss=3.5] \n"
     ]
    },
    {
     "name": "stdout",
     "output_type": "stream",
     "text": [
      "Epoch [8/50] completed.\n",
      "Allocated memory: 1982695936 bytes\n",
      "Reserved memory: 18452840448 bytes\n",
      "Epoch [8/50], Loss: 4.1166\n"
     ]
    },
    {
     "name": "stderr",
     "output_type": "stream",
     "text": [
      "Epoch 9/50: 100%|██████████| 391/391 [03:29<00:00,  1.87it/s, loss=3.15]\n"
     ]
    },
    {
     "name": "stdout",
     "output_type": "stream",
     "text": [
      "Epoch [9/50] completed.\n",
      "Allocated memory: 1982695936 bytes\n",
      "Reserved memory: 18452840448 bytes\n",
      "Epoch [9/50], Loss: 3.4969\n"
     ]
    },
    {
     "name": "stderr",
     "output_type": "stream",
     "text": [
      "Epoch 10/50: 100%|██████████| 391/391 [03:33<00:00,  1.83it/s, loss=2.7] \n"
     ]
    },
    {
     "name": "stdout",
     "output_type": "stream",
     "text": [
      "Epoch [10/50] completed.\n",
      "Allocated memory: 1982695936 bytes\n",
      "Reserved memory: 18452840448 bytes\n",
      "Epoch [10/50], Loss: 3.1380\n"
     ]
    },
    {
     "name": "stderr",
     "output_type": "stream",
     "text": [
      "Epoch 11/50: 100%|██████████| 391/391 [03:30<00:00,  1.86it/s, loss=1.86]\n"
     ]
    },
    {
     "name": "stdout",
     "output_type": "stream",
     "text": [
      "Epoch [11/50] completed.\n",
      "Allocated memory: 1982695936 bytes\n",
      "Reserved memory: 18452840448 bytes\n",
      "Epoch [11/50], Loss: 2.5202\n"
     ]
    },
    {
     "name": "stderr",
     "output_type": "stream",
     "text": [
      "Epoch 12/50: 100%|██████████| 391/391 [03:34<00:00,  1.83it/s, loss=1.61]\n"
     ]
    },
    {
     "name": "stdout",
     "output_type": "stream",
     "text": [
      "Epoch [12/50] completed.\n",
      "Allocated memory: 1982695936 bytes\n",
      "Reserved memory: 18452840448 bytes\n",
      "Epoch [12/50], Loss: 2.1678\n"
     ]
    },
    {
     "name": "stderr",
     "output_type": "stream",
     "text": [
      "Epoch 13/50: 100%|██████████| 391/391 [03:21<00:00,  1.94it/s, loss=1.32]\n"
     ]
    },
    {
     "name": "stdout",
     "output_type": "stream",
     "text": [
      "Epoch [13/50] completed.\n",
      "Allocated memory: 1982695936 bytes\n",
      "Reserved memory: 18452840448 bytes\n",
      "Epoch [13/50], Loss: 2.0278\n"
     ]
    },
    {
     "name": "stderr",
     "output_type": "stream",
     "text": [
      "Epoch 14/50: 100%|██████████| 391/391 [03:26<00:00,  1.90it/s, loss=1.59]\n"
     ]
    },
    {
     "name": "stdout",
     "output_type": "stream",
     "text": [
      "Epoch [14/50] completed.\n",
      "Allocated memory: 1982695936 bytes\n",
      "Reserved memory: 18452840448 bytes\n",
      "Epoch [14/50], Loss: 1.7244\n"
     ]
    },
    {
     "name": "stderr",
     "output_type": "stream",
     "text": [
      "Epoch 15/50: 100%|██████████| 391/391 [03:31<00:00,  1.85it/s, loss=1.43]\n"
     ]
    },
    {
     "name": "stdout",
     "output_type": "stream",
     "text": [
      "Epoch [15/50] completed.\n",
      "Allocated memory: 1982695936 bytes\n",
      "Reserved memory: 18452840448 bytes\n",
      "Epoch [15/50], Loss: 1.5610\n"
     ]
    },
    {
     "name": "stderr",
     "output_type": "stream",
     "text": [
      "Epoch 16/50: 100%|██████████| 391/391 [03:39<00:00,  1.78it/s, loss=1.34]\n"
     ]
    },
    {
     "name": "stdout",
     "output_type": "stream",
     "text": [
      "Epoch [16/50] completed.\n",
      "Allocated memory: 1982695936 bytes\n",
      "Reserved memory: 18452840448 bytes\n",
      "Epoch [16/50], Loss: 1.4670\n"
     ]
    },
    {
     "name": "stderr",
     "output_type": "stream",
     "text": [
      "Epoch 17/50: 100%|██████████| 391/391 [03:34<00:00,  1.82it/s, loss=1.37] \n"
     ]
    },
    {
     "name": "stdout",
     "output_type": "stream",
     "text": [
      "Epoch [17/50] completed.\n",
      "Allocated memory: 1982695936 bytes\n",
      "Reserved memory: 18452840448 bytes\n",
      "Epoch [17/50], Loss: 1.7129\n"
     ]
    },
    {
     "name": "stderr",
     "output_type": "stream",
     "text": [
      "Epoch 18/50: 100%|██████████| 391/391 [03:34<00:00,  1.82it/s, loss=1.31]\n"
     ]
    },
    {
     "name": "stdout",
     "output_type": "stream",
     "text": [
      "Epoch [18/50] completed.\n",
      "Allocated memory: 1982695936 bytes\n",
      "Reserved memory: 18452840448 bytes\n",
      "Epoch [18/50], Loss: 1.4193\n"
     ]
    },
    {
     "name": "stderr",
     "output_type": "stream",
     "text": [
      "Epoch 19/50: 100%|██████████| 391/391 [03:36<00:00,  1.81it/s, loss=0.992]\n"
     ]
    },
    {
     "name": "stdout",
     "output_type": "stream",
     "text": [
      "Epoch [19/50] completed.\n",
      "Allocated memory: 1982695936 bytes\n",
      "Reserved memory: 18452840448 bytes\n",
      "Epoch [19/50], Loss: 1.2724\n"
     ]
    },
    {
     "name": "stderr",
     "output_type": "stream",
     "text": [
      "Epoch 20/50: 100%|██████████| 391/391 [03:27<00:00,  1.89it/s, loss=0.889]\n"
     ]
    },
    {
     "name": "stdout",
     "output_type": "stream",
     "text": [
      "Epoch [20/50] completed.\n",
      "Allocated memory: 1982695936 bytes\n",
      "Reserved memory: 18452840448 bytes\n",
      "Epoch [20/50], Loss: 1.1617\n"
     ]
    },
    {
     "name": "stderr",
     "output_type": "stream",
     "text": [
      "Epoch 21/50: 100%|██████████| 391/391 [03:30<00:00,  1.86it/s, loss=0.666]\n"
     ]
    },
    {
     "name": "stdout",
     "output_type": "stream",
     "text": [
      "Epoch [21/50] completed.\n",
      "Allocated memory: 1982695936 bytes\n",
      "Reserved memory: 18452840448 bytes\n",
      "Epoch [21/50], Loss: 1.0969\n"
     ]
    },
    {
     "name": "stderr",
     "output_type": "stream",
     "text": [
      "Epoch 22/50: 100%|██████████| 391/391 [03:30<00:00,  1.86it/s, loss=1.02] \n"
     ]
    },
    {
     "name": "stdout",
     "output_type": "stream",
     "text": [
      "Epoch [22/50] completed.\n",
      "Allocated memory: 1982695936 bytes\n",
      "Reserved memory: 18452840448 bytes\n",
      "Epoch [22/50], Loss: 1.0529\n"
     ]
    },
    {
     "name": "stderr",
     "output_type": "stream",
     "text": [
      "Epoch 23/50: 100%|██████████| 391/391 [03:32<00:00,  1.84it/s, loss=0.68] \n"
     ]
    },
    {
     "name": "stdout",
     "output_type": "stream",
     "text": [
      "Epoch [23/50] completed.\n",
      "Allocated memory: 1982695936 bytes\n",
      "Reserved memory: 18452840448 bytes\n",
      "Epoch [23/50], Loss: 1.0211\n"
     ]
    },
    {
     "name": "stderr",
     "output_type": "stream",
     "text": [
      "Epoch 24/50: 100%|██████████| 391/391 [03:37<00:00,  1.80it/s, loss=0.823]\n"
     ]
    },
    {
     "name": "stdout",
     "output_type": "stream",
     "text": [
      "Epoch [24/50] completed.\n",
      "Allocated memory: 1982695936 bytes\n",
      "Reserved memory: 18452840448 bytes\n",
      "Epoch [24/50], Loss: 0.9640\n"
     ]
    },
    {
     "name": "stderr",
     "output_type": "stream",
     "text": [
      "Epoch 25/50: 100%|██████████| 391/391 [03:22<00:00,  1.93it/s, loss=0.542]\n"
     ]
    },
    {
     "name": "stdout",
     "output_type": "stream",
     "text": [
      "Epoch [25/50] completed.\n",
      "Allocated memory: 1982695936 bytes\n",
      "Reserved memory: 18452840448 bytes\n",
      "Epoch [25/50], Loss: 0.9295\n"
     ]
    },
    {
     "name": "stderr",
     "output_type": "stream",
     "text": [
      "Epoch 26/50: 100%|██████████| 391/391 [03:23<00:00,  1.93it/s, loss=0.821]\n"
     ]
    },
    {
     "name": "stdout",
     "output_type": "stream",
     "text": [
      "Epoch [26/50] completed.\n",
      "Allocated memory: 1982695936 bytes\n",
      "Reserved memory: 18452840448 bytes\n",
      "Epoch [26/50], Loss: 0.9501\n"
     ]
    },
    {
     "name": "stderr",
     "output_type": "stream",
     "text": [
      "Epoch 28/50: 100%|██████████| 391/391 [03:32<00:00,  1.84it/s, loss=0.748]\n"
     ]
    },
    {
     "name": "stdout",
     "output_type": "stream",
     "text": [
      "Epoch [28/50] completed.\n",
      "Allocated memory: 1982695936 bytes\n",
      "Reserved memory: 18452840448 bytes\n",
      "Epoch [28/50], Loss: 0.8297\n"
     ]
    },
    {
     "name": "stderr",
     "output_type": "stream",
     "text": [
      "Epoch 29/50: 100%|██████████| 391/391 [03:38<00:00,  1.79it/s, loss=0.447]\n"
     ]
    },
    {
     "name": "stdout",
     "output_type": "stream",
     "text": [
      "Epoch [29/50] completed.\n",
      "Allocated memory: 1982695936 bytes\n",
      "Reserved memory: 18452840448 bytes\n",
      "Epoch [29/50], Loss: 0.8120\n"
     ]
    },
    {
     "name": "stderr",
     "output_type": "stream",
     "text": [
      "Epoch 30/50: 100%|██████████| 391/391 [03:27<00:00,  1.88it/s, loss=0.926]\n"
     ]
    },
    {
     "name": "stdout",
     "output_type": "stream",
     "text": [
      "Epoch [30/50] completed.\n",
      "Allocated memory: 1982695936 bytes\n",
      "Reserved memory: 18452840448 bytes\n",
      "Epoch [30/50], Loss: 0.7863\n"
     ]
    },
    {
     "name": "stderr",
     "output_type": "stream",
     "text": [
      "Epoch 31/50: 100%|██████████| 391/391 [03:42<00:00,  1.75it/s, loss=0.486]\n"
     ]
    },
    {
     "name": "stdout",
     "output_type": "stream",
     "text": [
      "Epoch [31/50] completed.\n",
      "Allocated memory: 1982695936 bytes\n",
      "Reserved memory: 18452840448 bytes\n",
      "Epoch [31/50], Loss: 0.7465\n"
     ]
    },
    {
     "name": "stderr",
     "output_type": "stream",
     "text": [
      "Epoch 32/50:   5%|▌         | 20/391 [00:15<03:09,  1.95it/s, loss=0.73] IOPub message rate exceeded.\n",
      "The Jupyter server will temporarily stop sending output\n",
      "to the client in order to avoid crashing it.\n",
      "To change this limit, set the config variable\n",
      "`--ServerApp.iopub_msg_rate_limit`.\n",
      "\n",
      "Current values:\n",
      "ServerApp.iopub_msg_rate_limit=1000.0 (msgs/sec)\n",
      "ServerApp.rate_limit_window=3.0 (secs)\n",
      "\n",
      "Epoch 33/50: 100%|██████████| 391/391 [03:48<00:00,  1.71it/s, loss=0.607]\n"
     ]
    },
    {
     "name": "stdout",
     "output_type": "stream",
     "text": [
      "Epoch [33/50] completed.\n",
      "Allocated memory: 1982695936 bytes\n",
      "Reserved memory: 18452840448 bytes\n",
      "Epoch [33/50], Loss: 0.7831\n"
     ]
    },
    {
     "name": "stderr",
     "output_type": "stream",
     "text": [
      "Epoch 34/50: 100%|██████████| 391/391 [04:06<00:00,  1.59it/s, loss=0.576]\n"
     ]
    },
    {
     "name": "stdout",
     "output_type": "stream",
     "text": [
      "Epoch [34/50] completed.\n",
      "Allocated memory: 1982695936 bytes\n",
      "Reserved memory: 18452840448 bytes\n",
      "Epoch [34/50], Loss: 0.7203\n"
     ]
    },
    {
     "name": "stderr",
     "output_type": "stream",
     "text": [
      "Epoch 35/50: 100%|██████████| 391/391 [04:01<00:00,  1.62it/s, loss=0.565]\n"
     ]
    },
    {
     "name": "stdout",
     "output_type": "stream",
     "text": [
      "Epoch [35/50] completed.\n",
      "Allocated memory: 1982695936 bytes\n",
      "Reserved memory: 18452840448 bytes\n",
      "Epoch [35/50], Loss: 0.6868\n"
     ]
    },
    {
     "name": "stderr",
     "output_type": "stream",
     "text": [
      "Epoch 36/50: 100%|██████████| 391/391 [03:55<00:00,  1.66it/s, loss=0.662]\n"
     ]
    },
    {
     "name": "stdout",
     "output_type": "stream",
     "text": [
      "Epoch [36/50] completed.\n",
      "Allocated memory: 1982695936 bytes\n",
      "Reserved memory: 18452840448 bytes\n",
      "Epoch [36/50], Loss: 0.6573\n"
     ]
    },
    {
     "name": "stderr",
     "output_type": "stream",
     "text": [
      "Epoch 37/50: 100%|██████████| 391/391 [04:00<00:00,  1.62it/s, loss=0.479]\n"
     ]
    },
    {
     "name": "stdout",
     "output_type": "stream",
     "text": [
      "Epoch [37/50] completed.\n",
      "Allocated memory: 1982695936 bytes\n",
      "Reserved memory: 18452840448 bytes\n",
      "Epoch [37/50], Loss: 0.6505\n"
     ]
    },
    {
     "name": "stderr",
     "output_type": "stream",
     "text": [
      "Epoch 38/50: 100%|██████████| 391/391 [04:02<00:00,  1.61it/s, loss=0.656]\n"
     ]
    },
    {
     "name": "stdout",
     "output_type": "stream",
     "text": [
      "Epoch [38/50] completed.\n",
      "Allocated memory: 1982695936 bytes\n",
      "Reserved memory: 18452840448 bytes\n",
      "Epoch [38/50], Loss: 0.6419\n"
     ]
    },
    {
     "name": "stderr",
     "output_type": "stream",
     "text": [
      "Epoch 39/50: 100%|██████████| 391/391 [03:56<00:00,  1.65it/s, loss=0.506]\n"
     ]
    },
    {
     "name": "stdout",
     "output_type": "stream",
     "text": [
      "Epoch [39/50] completed.\n",
      "Allocated memory: 1982695936 bytes\n",
      "Reserved memory: 18452840448 bytes\n",
      "Epoch [39/50], Loss: 0.6185\n"
     ]
    },
    {
     "name": "stderr",
     "output_type": "stream",
     "text": [
      "Epoch 40/50: 100%|██████████| 391/391 [03:59<00:00,  1.63it/s, loss=0.485]\n"
     ]
    },
    {
     "name": "stdout",
     "output_type": "stream",
     "text": [
      "Epoch [40/50] completed.\n",
      "Allocated memory: 1982695936 bytes\n",
      "Reserved memory: 18452840448 bytes\n",
      "Epoch [40/50], Loss: 0.6097\n"
     ]
    },
    {
     "name": "stderr",
     "output_type": "stream",
     "text": [
      "Epoch 41/50: 100%|██████████| 391/391 [03:52<00:00,  1.68it/s, loss=0.582]\n"
     ]
    },
    {
     "name": "stdout",
     "output_type": "stream",
     "text": [
      "Epoch [41/50] completed.\n",
      "Allocated memory: 1982695936 bytes\n",
      "Reserved memory: 18452840448 bytes\n",
      "Epoch [41/50], Loss: 0.5957\n"
     ]
    },
    {
     "name": "stderr",
     "output_type": "stream",
     "text": [
      "Epoch 42/50: 100%|██████████| 391/391 [03:54<00:00,  1.66it/s, loss=0.502]\n"
     ]
    },
    {
     "name": "stdout",
     "output_type": "stream",
     "text": [
      "Epoch [42/50] completed.\n",
      "Allocated memory: 1982695936 bytes\n",
      "Reserved memory: 18452840448 bytes\n",
      "Epoch [42/50], Loss: 0.5863\n"
     ]
    },
    {
     "name": "stderr",
     "output_type": "stream",
     "text": [
      "Epoch 43/50: 100%|██████████| 391/391 [04:04<00:00,  1.60it/s, loss=0.617]\n"
     ]
    },
    {
     "name": "stdout",
     "output_type": "stream",
     "text": [
      "Epoch [43/50] completed.\n",
      "Allocated memory: 1982695936 bytes\n",
      "Reserved memory: 18452840448 bytes\n",
      "Epoch [43/50], Loss: 0.5672\n"
     ]
    },
    {
     "name": "stderr",
     "output_type": "stream",
     "text": [
      "Epoch 44/50: 100%|██████████| 391/391 [04:02<00:00,  1.61it/s, loss=0.403]\n"
     ]
    },
    {
     "name": "stdout",
     "output_type": "stream",
     "text": [
      "Epoch [44/50] completed.\n",
      "Allocated memory: 1982695936 bytes\n",
      "Reserved memory: 18452840448 bytes\n",
      "Epoch [44/50], Loss: 0.5673\n"
     ]
    },
    {
     "name": "stderr",
     "output_type": "stream",
     "text": [
      "Epoch 45/50: 100%|██████████| 391/391 [03:54<00:00,  1.67it/s, loss=0.449]\n"
     ]
    },
    {
     "name": "stdout",
     "output_type": "stream",
     "text": [
      "Epoch [45/50] completed.\n",
      "Allocated memory: 1982695936 bytes\n",
      "Reserved memory: 18452840448 bytes\n",
      "Epoch [45/50], Loss: 0.5538\n"
     ]
    },
    {
     "name": "stderr",
     "output_type": "stream",
     "text": [
      "Epoch 46/50: 100%|██████████| 391/391 [03:53<00:00,  1.68it/s, loss=0.627]\n"
     ]
    },
    {
     "name": "stdout",
     "output_type": "stream",
     "text": [
      "Epoch [46/50] completed.\n",
      "Allocated memory: 1982695936 bytes\n",
      "Reserved memory: 18452840448 bytes\n",
      "Epoch [46/50], Loss: 0.5392\n"
     ]
    },
    {
     "name": "stderr",
     "output_type": "stream",
     "text": [
      "Epoch 47/50: 100%|██████████| 391/391 [04:10<00:00,  1.56it/s, loss=0.499]\n"
     ]
    },
    {
     "name": "stdout",
     "output_type": "stream",
     "text": [
      "Epoch [47/50] completed.\n",
      "Allocated memory: 1982695936 bytes\n",
      "Reserved memory: 18452840448 bytes\n",
      "Epoch [47/50], Loss: 0.5272\n"
     ]
    },
    {
     "name": "stderr",
     "output_type": "stream",
     "text": [
      "Epoch 48/50: 100%|██████████| 391/391 [04:01<00:00,  1.62it/s, loss=0.512]\n"
     ]
    },
    {
     "name": "stdout",
     "output_type": "stream",
     "text": [
      "Epoch [48/50] completed.\n",
      "Allocated memory: 1982695936 bytes\n",
      "Reserved memory: 18452840448 bytes\n",
      "Epoch [48/50], Loss: 0.5230\n"
     ]
    },
    {
     "name": "stderr",
     "output_type": "stream",
     "text": [
      "Epoch 49/50: 100%|██████████| 391/391 [04:03<00:00,  1.60it/s, loss=0.397]\n"
     ]
    },
    {
     "name": "stdout",
     "output_type": "stream",
     "text": [
      "Epoch [49/50] completed.\n",
      "Allocated memory: 1982695936 bytes\n",
      "Reserved memory: 18452840448 bytes\n",
      "Epoch [49/50], Loss: 0.5225\n"
     ]
    },
    {
     "name": "stderr",
     "output_type": "stream",
     "text": [
      "Epoch 50/50: 100%|██████████| 391/391 [03:56<00:00,  1.65it/s, loss=0.403]\n"
     ]
    },
    {
     "name": "stdout",
     "output_type": "stream",
     "text": [
      "Epoch [50/50] completed.\n",
      "Allocated memory: 1982695936 bytes\n",
      "Reserved memory: 18452840448 bytes\n",
      "Epoch [50/50], Loss: 0.5097\n"
     ]
    }
   ],
   "source": [
    "class SimCLRTransform:\n",
    "    def __init__(self):\n",
    "        self.transform = transforms.Compose([\n",
    "            transforms.RandomResizedCrop(224),\n",
    "            transforms.RandomHorizontalFlip(),\n",
    "            transforms.RandomApply([transforms.ColorJitter(0.8, 0.8, 0.8, 0.2)], p=0.8),\n",
    "            transforms.RandomGrayscale(p=0.2),\n",
    "            transforms.ToTensor(),\n",
    "            transforms.Normalize(mean=[0.485, 0.456, 0.406], std=[0.229, 0.224, 0.225])\n",
    "        ])\n",
    "\n",
    "    def __call__(self, x):\n",
    "        return self.transform(x), self.transform(x)\n",
    "\n",
    "\n",
    "batch_size = 256  \n",
    "dataset = datasets.STL10(root='autodl-tmp/data/data', split='unlabeled', transform=SimCLRTransform(), download=True)\n",
    "dataloader = DataLoader(dataset, batch_size=batch_size, shuffle=True, num_workers=4)\n",
    "\n",
    "# 定义ResNet-18模型\n",
    "class ResNetSimCLR(nn.Module):\n",
    "    def __init__(self, base_model, out_dim):\n",
    "        super(ResNetSimCLR, self).__init__()\n",
    "        self.encoder = nn.Sequential(*list(base_model.children())[:-1])\n",
    "        self.fc = nn.Sequential(\n",
    "            nn.Linear(base_model.fc.in_features, 2048),\n",
    "            nn.ReLU(),\n",
    "            nn.Linear(2048, out_dim)\n",
    "        )\n",
    "\n",
    "    def forward(self, x):\n",
    "        h = self.encoder(x)\n",
    "        h = h.view(h.size(0), -1)\n",
    "        z = self.fc(h)\n",
    "        return h, z\n",
    "\n",
    "\n",
    "base_model = resnet18(weights=None)  \n",
    "model = ResNetSimCLR(base_model, out_dim=128).to(device)\n",
    "\n",
    "\n",
    "class NTXentLoss(nn.Module):\n",
    "    def __init__(self, batch_size, temperature):\n",
    "        super(NTXentLoss, self).__init__()\n",
    "        self.batch_size = batch_size\n",
    "        self.temperature = temperature\n",
    "        self.mask = self.mask_correlated_samples(batch_size)\n",
    "        self.criterion = nn.CrossEntropyLoss(reduction=\"sum\")\n",
    "\n",
    "    def mask_correlated_samples(self, batch_size):\n",
    "        N = 2 * batch_size  \n",
    "        mask = torch.ones((N, N), dtype=bool)  \n",
    "        mask = mask.fill_diagonal_(0)  \n",
    "\n",
    "        for i in range(batch_size):\n",
    "            mask[i, batch_size + i] = 0  \n",
    "            mask[batch_size + i, i] = 0  \n",
    "\n",
    "        return mask\n",
    "\n",
    "    def forward(self, z_i, z_j):\n",
    "        batch_size = z_i.size(0) \n",
    "        N = 2 * batch_size\n",
    "        z = torch.cat((z_i, z_j), dim=0)  \n",
    "        sim = torch.matmul(z, z.T) / self.temperature  \n",
    "\n",
    "        \n",
    "        assert sim.shape == (N, N), f\"Sim matrix shape is {sim.shape}, expected ({N}, {N})\"\n",
    "\n",
    "        sim_i_j = torch.diag(sim, batch_size)  \n",
    "        sim_j_i = torch.diag(sim, -batch_size)\n",
    "\n",
    "        \n",
    "        assert sim_i_j.shape == (batch_size,), f\"sim_i_j shape is {sim_i_j.shape}, expected ({batch_size},)\"\n",
    "        assert sim_j_i.shape == (batch_size,), f\"sim_j_i shape is {sim_j_i.shape}, expected ({batch_size},)\"\n",
    "\n",
    "        positive_samples = torch.cat((sim_i_j, sim_j_i), dim=0).reshape(N, 1)\n",
    "        mask = self.mask_correlated_samples(batch_size)  \n",
    "        negative_samples = sim[mask].reshape(N, -1)\n",
    "\n",
    "        \n",
    "        assert negative_samples.shape == (N, N-2), f\"negative_samples shape is {negative_samples.shape}, expected ({N}, {N-2})\"\n",
    "\n",
    "        labels = torch.zeros(N).to(positive_samples.device).long()\n",
    "        logits = torch.cat((positive_samples, negative_samples), dim=1)\n",
    "        loss = self.criterion(logits, labels)\n",
    "        return loss / N\n",
    "\n",
    "\n",
    "criterion = NTXentLoss(batch_size=batch_size, temperature=0.5).to(device)\n",
    "optimizer = optim.Adam(model.parameters(), lr=1e-3) \n",
    "\n",
    "\n",
    "def train_simclr(model, dataloader, criterion, optimizer, epochs):\n",
    "    model.train()\n",
    "    for epoch in range(epochs):\n",
    "        epoch_loss = 0\n",
    "        progress_bar = tqdm(dataloader, desc=f\"Epoch {epoch+1}/{epochs}\")\n",
    "        for images, _ in progress_bar:\n",
    "            images[0] = images[0].to(device)\n",
    "            images[1] = images[1].to(device)\n",
    "            optimizer.zero_grad()\n",
    "\n",
    "            # 将批次中的每个图像增强两次\n",
    "            z_i, _ = model(images[0])\n",
    "            z_j, _ = model(images[1])\n",
    "\n",
    "            # 计算对比损失\n",
    "            loss = criterion(z_i, z_j)\n",
    "            loss.backward()\n",
    "            optimizer.step()\n",
    "            epoch_loss += loss.item()\n",
    "            progress_bar.set_postfix(loss=loss.item())\n",
    "        \n",
    "        \n",
    "        print(f\"Epoch [{epoch+1}/{epochs}] completed.\")\n",
    "        print(f\"Allocated memory: {torch.cuda.memory_allocated(device)} bytes\")\n",
    "        print(f\"Reserved memory: {torch.cuda.memory_reserved(device)} bytes\")\n",
    "        \n",
    "        print(f'Epoch [{epoch+1}/{epochs}], Loss: {epoch_loss/len(dataloader):.4f}')\n",
    "\n",
    "\n",
    "train_simclr(model, dataloader, criterion, optimizer, epochs=50)\n",
    "torch.save(model.state_dict(), 'resnet_simclr.pth')\n"
   ]
  },
  {
   "cell_type": "markdown",
   "id": "60122e79-98a2-449c-920e-5d0987eeb679",
   "metadata": {},
   "source": [
    "## 1.2 监督学习训练输出层"
   ]
  },
  {
   "cell_type": "code",
   "execution_count": 14,
   "id": "582cd893-7c57-43fd-a927-4a11a4955ef1",
   "metadata": {},
   "outputs": [
    {
     "name": "stdout",
     "output_type": "stream",
     "text": [
      "Files already downloaded and verified\n",
      "Files already downloaded and verified\n"
     ]
    },
    {
     "name": "stderr",
     "output_type": "stream",
     "text": [
      "Epoch 1/50: 100%|██████████| 196/196 [00:24<00:00,  8.11it/s, accuracy=21.8, loss=3.52]\n"
     ]
    },
    {
     "name": "stdout",
     "output_type": "stream",
     "text": [
      "Epoch [1/50], Loss: 4.0219, Accuracy: 21.77%\n"
     ]
    },
    {
     "name": "stderr",
     "output_type": "stream",
     "text": [
      "Epoch 2/50: 100%|██████████| 196/196 [00:23<00:00,  8.35it/s, accuracy=35, loss=3.02]  \n"
     ]
    },
    {
     "name": "stdout",
     "output_type": "stream",
     "text": [
      "Epoch [2/50], Loss: 3.2560, Accuracy: 35.00%\n"
     ]
    },
    {
     "name": "stderr",
     "output_type": "stream",
     "text": [
      "Epoch 3/50: 100%|██████████| 196/196 [00:23<00:00,  8.33it/s, accuracy=38.5, loss=2.67]\n"
     ]
    },
    {
     "name": "stdout",
     "output_type": "stream",
     "text": [
      "Epoch [3/50], Loss: 2.8684, Accuracy: 38.49%\n"
     ]
    },
    {
     "name": "stderr",
     "output_type": "stream",
     "text": [
      "Epoch 4/50: 100%|██████████| 196/196 [00:23<00:00,  8.37it/s, accuracy=40.9, loss=2.54]\n"
     ]
    },
    {
     "name": "stdout",
     "output_type": "stream",
     "text": [
      "Epoch [4/50], Loss: 2.6456, Accuracy: 40.93%\n"
     ]
    },
    {
     "name": "stderr",
     "output_type": "stream",
     "text": [
      "Epoch 5/50: 100%|██████████| 196/196 [00:23<00:00,  8.42it/s, accuracy=42.4, loss=2.46]\n"
     ]
    },
    {
     "name": "stdout",
     "output_type": "stream",
     "text": [
      "Epoch [5/50], Loss: 2.5001, Accuracy: 42.41%\n"
     ]
    },
    {
     "name": "stderr",
     "output_type": "stream",
     "text": [
      "Epoch 6/50: 100%|██████████| 196/196 [00:23<00:00,  8.39it/s, accuracy=43.7, loss=2.34]\n"
     ]
    },
    {
     "name": "stdout",
     "output_type": "stream",
     "text": [
      "Epoch [6/50], Loss: 2.3970, Accuracy: 43.72%\n"
     ]
    },
    {
     "name": "stderr",
     "output_type": "stream",
     "text": [
      "Epoch 7/50: 100%|██████████| 196/196 [00:23<00:00,  8.23it/s, accuracy=44.6, loss=2.34]\n"
     ]
    },
    {
     "name": "stdout",
     "output_type": "stream",
     "text": [
      "Epoch [7/50], Loss: 2.3169, Accuracy: 44.63%\n"
     ]
    },
    {
     "name": "stderr",
     "output_type": "stream",
     "text": [
      "Epoch 8/50: 100%|██████████| 196/196 [00:23<00:00,  8.37it/s, accuracy=45.5, loss=2.33]\n"
     ]
    },
    {
     "name": "stdout",
     "output_type": "stream",
     "text": [
      "Epoch [8/50], Loss: 2.2546, Accuracy: 45.48%\n"
     ]
    },
    {
     "name": "stderr",
     "output_type": "stream",
     "text": [
      "Epoch 9/50: 100%|██████████| 196/196 [00:23<00:00,  8.33it/s, accuracy=46.3, loss=2.22]\n"
     ]
    },
    {
     "name": "stdout",
     "output_type": "stream",
     "text": [
      "Epoch [9/50], Loss: 2.2024, Accuracy: 46.27%\n"
     ]
    },
    {
     "name": "stderr",
     "output_type": "stream",
     "text": [
      "Epoch 10/50: 100%|██████████| 196/196 [00:23<00:00,  8.36it/s, accuracy=47.1, loss=2.17]\n"
     ]
    },
    {
     "name": "stdout",
     "output_type": "stream",
     "text": [
      "Epoch [10/50], Loss: 2.1596, Accuracy: 47.10%\n"
     ]
    },
    {
     "name": "stderr",
     "output_type": "stream",
     "text": [
      "Epoch 11/50: 100%|██████████| 196/196 [00:24<00:00,  7.98it/s, accuracy=47.7, loss=2.21]\n"
     ]
    },
    {
     "name": "stdout",
     "output_type": "stream",
     "text": [
      "Epoch [11/50], Loss: 2.1214, Accuracy: 47.73%\n"
     ]
    },
    {
     "name": "stderr",
     "output_type": "stream",
     "text": [
      "Epoch 12/50: 100%|██████████| 196/196 [00:24<00:00,  7.93it/s, accuracy=48.2, loss=1.86]\n"
     ]
    },
    {
     "name": "stdout",
     "output_type": "stream",
     "text": [
      "Epoch [12/50], Loss: 2.0880, Accuracy: 48.20%\n"
     ]
    },
    {
     "name": "stderr",
     "output_type": "stream",
     "text": [
      "Epoch 13/50: 100%|██████████| 196/196 [00:23<00:00,  8.36it/s, accuracy=48.8, loss=2.03]\n"
     ]
    },
    {
     "name": "stdout",
     "output_type": "stream",
     "text": [
      "Epoch [13/50], Loss: 2.0582, Accuracy: 48.84%\n"
     ]
    },
    {
     "name": "stderr",
     "output_type": "stream",
     "text": [
      "Epoch 14/50: 100%|██████████| 196/196 [00:23<00:00,  8.37it/s, accuracy=49.2, loss=2.21]\n"
     ]
    },
    {
     "name": "stdout",
     "output_type": "stream",
     "text": [
      "Epoch [14/50], Loss: 2.0328, Accuracy: 49.23%\n"
     ]
    },
    {
     "name": "stderr",
     "output_type": "stream",
     "text": [
      "Epoch 15/50: 100%|██████████| 196/196 [00:23<00:00,  8.33it/s, accuracy=49.8, loss=2.13]\n"
     ]
    },
    {
     "name": "stdout",
     "output_type": "stream",
     "text": [
      "Epoch [15/50], Loss: 2.0093, Accuracy: 49.76%\n"
     ]
    },
    {
     "name": "stderr",
     "output_type": "stream",
     "text": [
      "Epoch 16/50: 100%|██████████| 196/196 [00:23<00:00,  8.38it/s, accuracy=50.1, loss=2.04]\n"
     ]
    },
    {
     "name": "stdout",
     "output_type": "stream",
     "text": [
      "Epoch [16/50], Loss: 1.9873, Accuracy: 50.10%\n"
     ]
    },
    {
     "name": "stderr",
     "output_type": "stream",
     "text": [
      "Epoch 17/50: 100%|██████████| 196/196 [00:21<00:00,  9.03it/s, accuracy=50.4, loss=1.9] \n"
     ]
    },
    {
     "name": "stdout",
     "output_type": "stream",
     "text": [
      "Epoch [17/50], Loss: 1.9661, Accuracy: 50.43%\n"
     ]
    },
    {
     "name": "stderr",
     "output_type": "stream",
     "text": [
      "Epoch 18/50: 100%|██████████| 196/196 [00:23<00:00,  8.33it/s, accuracy=50.7, loss=2]   \n"
     ]
    },
    {
     "name": "stdout",
     "output_type": "stream",
     "text": [
      "Epoch [18/50], Loss: 1.9495, Accuracy: 50.67%\n"
     ]
    },
    {
     "name": "stderr",
     "output_type": "stream",
     "text": [
      "Epoch 19/50: 100%|██████████| 196/196 [00:23<00:00,  8.43it/s, accuracy=51.1, loss=2.16]\n"
     ]
    },
    {
     "name": "stdout",
     "output_type": "stream",
     "text": [
      "Epoch [19/50], Loss: 1.9318, Accuracy: 51.13%\n"
     ]
    },
    {
     "name": "stderr",
     "output_type": "stream",
     "text": [
      "Epoch 20/50: 100%|██████████| 196/196 [00:23<00:00,  8.45it/s, accuracy=51.5, loss=2.05]\n"
     ]
    },
    {
     "name": "stdout",
     "output_type": "stream",
     "text": [
      "Epoch [20/50], Loss: 1.9148, Accuracy: 51.47%\n"
     ]
    },
    {
     "name": "stderr",
     "output_type": "stream",
     "text": [
      "Epoch 21/50: 100%|██████████| 196/196 [00:23<00:00,  8.36it/s, accuracy=51.9, loss=2.03]\n"
     ]
    },
    {
     "name": "stdout",
     "output_type": "stream",
     "text": [
      "Epoch [21/50], Loss: 1.9003, Accuracy: 51.88%\n"
     ]
    },
    {
     "name": "stderr",
     "output_type": "stream",
     "text": [
      "Epoch 22/50: 100%|██████████| 196/196 [00:23<00:00,  8.32it/s, accuracy=52.1, loss=1.78]\n"
     ]
    },
    {
     "name": "stdout",
     "output_type": "stream",
     "text": [
      "Epoch [22/50], Loss: 1.8857, Accuracy: 52.07%\n"
     ]
    },
    {
     "name": "stderr",
     "output_type": "stream",
     "text": [
      "Epoch 23/50: 100%|██████████| 196/196 [00:23<00:00,  8.20it/s, accuracy=52.4, loss=1.61]\n"
     ]
    },
    {
     "name": "stdout",
     "output_type": "stream",
     "text": [
      "Epoch [23/50], Loss: 1.8709, Accuracy: 52.40%\n"
     ]
    },
    {
     "name": "stderr",
     "output_type": "stream",
     "text": [
      "Epoch 24/50: 100%|██████████| 196/196 [00:25<00:00,  7.69it/s, accuracy=52.6, loss=1.92]\n"
     ]
    },
    {
     "name": "stdout",
     "output_type": "stream",
     "text": [
      "Epoch [24/50], Loss: 1.8600, Accuracy: 52.57%\n"
     ]
    },
    {
     "name": "stderr",
     "output_type": "stream",
     "text": [
      "Epoch 25/50: 100%|██████████| 196/196 [00:24<00:00,  8.04it/s, accuracy=52.7, loss=1.94]\n"
     ]
    },
    {
     "name": "stdout",
     "output_type": "stream",
     "text": [
      "Epoch [25/50], Loss: 1.8471, Accuracy: 52.74%\n"
     ]
    },
    {
     "name": "stderr",
     "output_type": "stream",
     "text": [
      "Epoch 26/50: 100%|██████████| 196/196 [00:23<00:00,  8.26it/s, accuracy=53, loss=1.81]  \n"
     ]
    },
    {
     "name": "stdout",
     "output_type": "stream",
     "text": [
      "Epoch [26/50], Loss: 1.8362, Accuracy: 53.03%\n"
     ]
    },
    {
     "name": "stderr",
     "output_type": "stream",
     "text": [
      "Epoch 27/50: 100%|██████████| 196/196 [00:23<00:00,  8.38it/s, accuracy=53.3, loss=1.92]\n"
     ]
    },
    {
     "name": "stdout",
     "output_type": "stream",
     "text": [
      "Epoch [27/50], Loss: 1.8246, Accuracy: 53.30%\n"
     ]
    },
    {
     "name": "stderr",
     "output_type": "stream",
     "text": [
      "Epoch 28/50: 100%|██████████| 196/196 [00:23<00:00,  8.25it/s, accuracy=53.5, loss=1.69]\n"
     ]
    },
    {
     "name": "stdout",
     "output_type": "stream",
     "text": [
      "Epoch [28/50], Loss: 1.8144, Accuracy: 53.49%\n"
     ]
    },
    {
     "name": "stderr",
     "output_type": "stream",
     "text": [
      "Epoch 29/50: 100%|██████████| 196/196 [00:23<00:00,  8.33it/s, accuracy=53.9, loss=1.86]\n"
     ]
    },
    {
     "name": "stdout",
     "output_type": "stream",
     "text": [
      "Epoch [29/50], Loss: 1.8042, Accuracy: 53.92%\n"
     ]
    },
    {
     "name": "stderr",
     "output_type": "stream",
     "text": [
      "Epoch 30/50: 100%|██████████| 196/196 [00:23<00:00,  8.37it/s, accuracy=53.9, loss=1.63]\n"
     ]
    },
    {
     "name": "stdout",
     "output_type": "stream",
     "text": [
      "Epoch [30/50], Loss: 1.7963, Accuracy: 53.94%\n"
     ]
    },
    {
     "name": "stderr",
     "output_type": "stream",
     "text": [
      "Epoch 31/50: 100%|██████████| 196/196 [00:23<00:00,  8.37it/s, accuracy=54.2, loss=1.79]\n"
     ]
    },
    {
     "name": "stdout",
     "output_type": "stream",
     "text": [
      "Epoch [31/50], Loss: 1.7857, Accuracy: 54.21%\n"
     ]
    },
    {
     "name": "stderr",
     "output_type": "stream",
     "text": [
      "Epoch 32/50: 100%|██████████| 196/196 [00:23<00:00,  8.41it/s, accuracy=54.4, loss=1.59]\n"
     ]
    },
    {
     "name": "stdout",
     "output_type": "stream",
     "text": [
      "Epoch [32/50], Loss: 1.7765, Accuracy: 54.38%\n"
     ]
    },
    {
     "name": "stderr",
     "output_type": "stream",
     "text": [
      "Epoch 33/50: 100%|██████████| 196/196 [00:23<00:00,  8.38it/s, accuracy=54.5, loss=1.85]\n"
     ]
    },
    {
     "name": "stdout",
     "output_type": "stream",
     "text": [
      "Epoch [33/50], Loss: 1.7685, Accuracy: 54.48%\n"
     ]
    },
    {
     "name": "stderr",
     "output_type": "stream",
     "text": [
      "Epoch 34/50: 100%|██████████| 196/196 [00:23<00:00,  8.40it/s, accuracy=54.7, loss=1.73]\n"
     ]
    },
    {
     "name": "stdout",
     "output_type": "stream",
     "text": [
      "Epoch [34/50], Loss: 1.7607, Accuracy: 54.69%\n"
     ]
    },
    {
     "name": "stderr",
     "output_type": "stream",
     "text": [
      "Epoch 35/50: 100%|██████████| 196/196 [00:23<00:00,  8.37it/s, accuracy=54.9, loss=1.8] \n"
     ]
    },
    {
     "name": "stdout",
     "output_type": "stream",
     "text": [
      "Epoch [35/50], Loss: 1.7537, Accuracy: 54.90%\n"
     ]
    },
    {
     "name": "stderr",
     "output_type": "stream",
     "text": [
      "Epoch 36/50: 100%|██████████| 196/196 [00:23<00:00,  8.35it/s, accuracy=55.1, loss=1.82]\n"
     ]
    },
    {
     "name": "stdout",
     "output_type": "stream",
     "text": [
      "Epoch [36/50], Loss: 1.7465, Accuracy: 55.08%\n"
     ]
    },
    {
     "name": "stderr",
     "output_type": "stream",
     "text": [
      "Epoch 37/50: 100%|██████████| 196/196 [00:23<00:00,  8.37it/s, accuracy=55.3, loss=1.99]\n"
     ]
    },
    {
     "name": "stdout",
     "output_type": "stream",
     "text": [
      "Epoch [37/50], Loss: 1.7370, Accuracy: 55.27%\n"
     ]
    },
    {
     "name": "stderr",
     "output_type": "stream",
     "text": [
      "Epoch 38/50: 100%|██████████| 196/196 [00:23<00:00,  8.39it/s, accuracy=55.4, loss=1.56]\n"
     ]
    },
    {
     "name": "stdout",
     "output_type": "stream",
     "text": [
      "Epoch [38/50], Loss: 1.7300, Accuracy: 55.43%\n"
     ]
    },
    {
     "name": "stderr",
     "output_type": "stream",
     "text": [
      "Epoch 39/50: 100%|██████████| 196/196 [00:23<00:00,  8.46it/s, accuracy=55.4, loss=1.43]\n"
     ]
    },
    {
     "name": "stdout",
     "output_type": "stream",
     "text": [
      "Epoch [39/50], Loss: 1.7224, Accuracy: 55.43%\n"
     ]
    },
    {
     "name": "stderr",
     "output_type": "stream",
     "text": [
      "Epoch 40/50: 100%|██████████| 196/196 [00:24<00:00,  8.08it/s, accuracy=55.7, loss=1.62]\n"
     ]
    },
    {
     "name": "stdout",
     "output_type": "stream",
     "text": [
      "Epoch [40/50], Loss: 1.7151, Accuracy: 55.75%\n"
     ]
    },
    {
     "name": "stderr",
     "output_type": "stream",
     "text": [
      "Epoch 41/50: 100%|██████████| 196/196 [00:23<00:00,  8.39it/s, accuracy=55.9, loss=1.85]\n"
     ]
    },
    {
     "name": "stdout",
     "output_type": "stream",
     "text": [
      "Epoch [41/50], Loss: 1.7104, Accuracy: 55.86%\n"
     ]
    },
    {
     "name": "stderr",
     "output_type": "stream",
     "text": [
      "Epoch 42/50: 100%|██████████| 196/196 [00:23<00:00,  8.27it/s, accuracy=56, loss=1.52]  \n"
     ]
    },
    {
     "name": "stdout",
     "output_type": "stream",
     "text": [
      "Epoch [42/50], Loss: 1.7036, Accuracy: 55.98%\n"
     ]
    },
    {
     "name": "stderr",
     "output_type": "stream",
     "text": [
      "Epoch 43/50: 100%|██████████| 196/196 [00:22<00:00,  8.84it/s, accuracy=56, loss=1.61]  \n"
     ]
    },
    {
     "name": "stdout",
     "output_type": "stream",
     "text": [
      "Epoch [43/50], Loss: 1.6977, Accuracy: 55.97%\n"
     ]
    },
    {
     "name": "stderr",
     "output_type": "stream",
     "text": [
      "Epoch 44/50: 100%|██████████| 196/196 [00:22<00:00,  8.56it/s, accuracy=56.2, loss=1.71]\n"
     ]
    },
    {
     "name": "stdout",
     "output_type": "stream",
     "text": [
      "Epoch [44/50], Loss: 1.6924, Accuracy: 56.25%\n"
     ]
    },
    {
     "name": "stderr",
     "output_type": "stream",
     "text": [
      "Epoch 45/50: 100%|██████████| 196/196 [00:23<00:00,  8.47it/s, accuracy=56.2, loss=1.58]\n"
     ]
    },
    {
     "name": "stdout",
     "output_type": "stream",
     "text": [
      "Epoch [45/50], Loss: 1.6854, Accuracy: 56.24%\n"
     ]
    },
    {
     "name": "stderr",
     "output_type": "stream",
     "text": [
      "Epoch 46/50: 100%|██████████| 196/196 [00:23<00:00,  8.45it/s, accuracy=56.5, loss=1.78]\n"
     ]
    },
    {
     "name": "stdout",
     "output_type": "stream",
     "text": [
      "Epoch [46/50], Loss: 1.6805, Accuracy: 56.53%\n"
     ]
    },
    {
     "name": "stderr",
     "output_type": "stream",
     "text": [
      "Epoch 47/50: 100%|██████████| 196/196 [00:23<00:00,  8.39it/s, accuracy=56.5, loss=1.43]\n"
     ]
    },
    {
     "name": "stdout",
     "output_type": "stream",
     "text": [
      "Epoch [47/50], Loss: 1.6757, Accuracy: 56.47%\n"
     ]
    },
    {
     "name": "stderr",
     "output_type": "stream",
     "text": [
      "Epoch 48/50: 100%|██████████| 196/196 [00:23<00:00,  8.43it/s, accuracy=56.6, loss=1.68]\n"
     ]
    },
    {
     "name": "stdout",
     "output_type": "stream",
     "text": [
      "Epoch [48/50], Loss: 1.6710, Accuracy: 56.58%\n"
     ]
    },
    {
     "name": "stderr",
     "output_type": "stream",
     "text": [
      "Epoch 49/50: 100%|██████████| 196/196 [00:23<00:00,  8.23it/s, accuracy=56.9, loss=1.87]\n"
     ]
    },
    {
     "name": "stdout",
     "output_type": "stream",
     "text": [
      "Epoch [49/50], Loss: 1.6651, Accuracy: 56.92%\n"
     ]
    },
    {
     "name": "stderr",
     "output_type": "stream",
     "text": [
      "Epoch 50/50: 100%|██████████| 196/196 [00:23<00:00,  8.47it/s, accuracy=56.9, loss=1.65]"
     ]
    },
    {
     "name": "stdout",
     "output_type": "stream",
     "text": [
      "Epoch [50/50], Loss: 1.6601, Accuracy: 56.90%\n"
     ]
    },
    {
     "name": "stderr",
     "output_type": "stream",
     "text": [
      "\n"
     ]
    }
   ],
   "source": [
    "# CIFAR-100 数据集加载\n",
    "transform = transforms.Compose([\n",
    "    transforms.Resize(224),\n",
    "    transforms.ToTensor(),\n",
    "    transforms.Normalize(mean=[0.485, 0.456, 0.406], std=[0.229, 0.224, 0.225])\n",
    "])\n",
    "\n",
    "train_dataset = datasets.CIFAR100(root='./data', train=True, transform=transform, download=True)\n",
    "test_dataset = datasets.CIFAR100(root='./data', train=False, transform=transform, download=True)\n",
    "\n",
    "train_loader = DataLoader(train_dataset, batch_size=256, shuffle=True, num_workers=4)\n",
    "test_loader = DataLoader(test_dataset, batch_size=256, shuffle=False, num_workers=4)\n",
    "\n",
    "\n",
    "class LinearClassifier(nn.Module):\n",
    "    def __init__(self, encoder, num_classes):\n",
    "        super(LinearClassifier, self).__init__()\n",
    "        self.encoder = encoder\n",
    "        self.fc = nn.Linear(512, num_classes)  # 512是ResNet-18编码器输出的特征维度\n",
    "\n",
    "    def forward(self, x):\n",
    "        with torch.no_grad():\n",
    "            features = self.encoder(x)\n",
    "            features = features.view(features.size(0), -1)\n",
    "        out = self.fc(features)\n",
    "        return out\n",
    "\n",
    "# 加载预训练模型权重\n",
    "model = ResNetSimCLR(resnet18(weights=None), out_dim=128).to(device)\n",
    "model.load_state_dict(torch.load('resnet_simclr.pth'))\n",
    "\n",
    "# 冻结编码器部分，只训练线性分类器\n",
    "for param in model.encoder.parameters():\n",
    "    param.requires_grad = False\n",
    "\n",
    "linear_classifier = LinearClassifier(model.encoder, num_classes=100).to(device)\n",
    "\n",
    "# 定义损失函数和优化器\n",
    "criterion = nn.CrossEntropyLoss()\n",
    "optimizer = optim.Adam(linear_classifier.fc.parameters(), lr=1e-3)\n",
    "\n",
    "# 训练线性分类器\n",
    "def train_linear_classifier(model, dataloader, criterion, optimizer, epochs):\n",
    "    model.train()\n",
    "    for epoch in range(epochs):\n",
    "        epoch_loss = 0\n",
    "        correct = 0\n",
    "        total = 0\n",
    "        progress_bar = tqdm(dataloader, desc=f\"Epoch {epoch+1}/{epochs}\")\n",
    "        for images, labels in progress_bar:\n",
    "            images, labels = images.to(device), labels.to(device)\n",
    "            optimizer.zero_grad()\n",
    "            outputs = model(images)\n",
    "            loss = criterion(outputs, labels)\n",
    "            loss.backward()\n",
    "            optimizer.step()\n",
    "            epoch_loss += loss.item()\n",
    "\n",
    "            _, predicted = outputs.max(1)\n",
    "            total += labels.size(0)\n",
    "            correct += predicted.eq(labels).sum().item()\n",
    "            \n",
    "            progress_bar.set_postfix(loss=loss.item(), accuracy=100.*correct/total)\n",
    "        print(f'Epoch [{epoch+1}/{epochs}], Loss: {epoch_loss/len(dataloader):.4f}, Accuracy: {100.*correct/total:.2f}%')\n",
    "\n",
    "train_linear_classifier(linear_classifier, train_loader, criterion, optimizer, epochs=50)\n"
   ]
  },
  {
   "cell_type": "code",
   "execution_count": null,
   "id": "48763181-a85d-4f68-b569-9dfb3baff3a1",
   "metadata": {},
   "outputs": [],
   "source": []
  },
  {
   "cell_type": "markdown",
   "id": "a0684eda-1264-4daf-a82d-4e9604206fd9",
   "metadata": {},
   "source": [
    "# 2. 监督学习"
   ]
  },
  {
   "cell_type": "markdown",
   "id": "a1c4db26-b757-4efd-a7bf-954f14bb3ede",
   "metadata": {},
   "source": [
    "## 2.1 加载预训练模型微调"
   ]
  },
  {
   "cell_type": "code",
   "execution_count": 16,
   "id": "422a7ce7-5380-479e-b450-f791accbea9b",
   "metadata": {},
   "outputs": [
    {
     "name": "stderr",
     "output_type": "stream",
     "text": [
      "Downloading: \"https://download.pytorch.org/models/resnet18-f37072fd.pth\" to /root/.cache/torch/hub/checkpoints/resnet18-f37072fd.pth\n",
      "100%|██████████| 44.7M/44.7M [02:58<00:00, 263kB/s]\n",
      "Epoch 1/50: 100%|██████████| 196/196 [00:23<00:00,  8.23it/s, accuracy=37.5, loss=2.14]\n"
     ]
    },
    {
     "name": "stdout",
     "output_type": "stream",
     "text": [
      "Epoch [1/50], Loss: 2.8293, Accuracy: 37.46%\n"
     ]
    },
    {
     "name": "stderr",
     "output_type": "stream",
     "text": [
      "Epoch 2/50: 100%|██████████| 196/196 [00:24<00:00,  8.02it/s, accuracy=54.8, loss=1.98]\n"
     ]
    },
    {
     "name": "stdout",
     "output_type": "stream",
     "text": [
      "Epoch [2/50], Loss: 1.7909, Accuracy: 54.78%\n"
     ]
    },
    {
     "name": "stderr",
     "output_type": "stream",
     "text": [
      "Epoch 3/50: 100%|██████████| 196/196 [00:23<00:00,  8.45it/s, accuracy=58.6, loss=1.59]\n"
     ]
    },
    {
     "name": "stdout",
     "output_type": "stream",
     "text": [
      "Epoch [3/50], Loss: 1.5680, Accuracy: 58.61%\n"
     ]
    },
    {
     "name": "stderr",
     "output_type": "stream",
     "text": [
      "Epoch 4/50: 100%|██████████| 196/196 [00:23<00:00,  8.32it/s, accuracy=60.6, loss=1.51]\n"
     ]
    },
    {
     "name": "stdout",
     "output_type": "stream",
     "text": [
      "Epoch [4/50], Loss: 1.4619, Accuracy: 60.57%\n"
     ]
    },
    {
     "name": "stderr",
     "output_type": "stream",
     "text": [
      "Epoch 5/50: 100%|██████████| 196/196 [00:23<00:00,  8.28it/s, accuracy=62, loss=1.26]  \n"
     ]
    },
    {
     "name": "stdout",
     "output_type": "stream",
     "text": [
      "Epoch [5/50], Loss: 1.3945, Accuracy: 61.95%\n"
     ]
    },
    {
     "name": "stderr",
     "output_type": "stream",
     "text": [
      "Epoch 6/50: 100%|██████████| 196/196 [00:23<00:00,  8.29it/s, accuracy=63.3, loss=1.21]\n"
     ]
    },
    {
     "name": "stdout",
     "output_type": "stream",
     "text": [
      "Epoch [6/50], Loss: 1.3433, Accuracy: 63.28%\n"
     ]
    },
    {
     "name": "stderr",
     "output_type": "stream",
     "text": [
      "Epoch 7/50: 100%|██████████| 196/196 [00:23<00:00,  8.51it/s, accuracy=64.1, loss=1.43]\n"
     ]
    },
    {
     "name": "stdout",
     "output_type": "stream",
     "text": [
      "Epoch [7/50], Loss: 1.3034, Accuracy: 64.11%\n"
     ]
    },
    {
     "name": "stderr",
     "output_type": "stream",
     "text": [
      "Epoch 8/50: 100%|██████████| 196/196 [00:22<00:00,  8.63it/s, accuracy=64.5, loss=1.36]\n"
     ]
    },
    {
     "name": "stdout",
     "output_type": "stream",
     "text": [
      "Epoch [8/50], Loss: 1.2753, Accuracy: 64.54%\n"
     ]
    },
    {
     "name": "stderr",
     "output_type": "stream",
     "text": [
      "Epoch 9/50: 100%|██████████| 196/196 [00:22<00:00,  8.77it/s, accuracy=65.3, loss=1.36]\n"
     ]
    },
    {
     "name": "stdout",
     "output_type": "stream",
     "text": [
      "Epoch [9/50], Loss: 1.2453, Accuracy: 65.26%\n"
     ]
    },
    {
     "name": "stderr",
     "output_type": "stream",
     "text": [
      "Epoch 10/50: 100%|██████████| 196/196 [00:23<00:00,  8.27it/s, accuracy=66, loss=1.53]  \n"
     ]
    },
    {
     "name": "stdout",
     "output_type": "stream",
     "text": [
      "Epoch [10/50], Loss: 1.2234, Accuracy: 66.04%\n"
     ]
    },
    {
     "name": "stderr",
     "output_type": "stream",
     "text": [
      "Epoch 11/50: 100%|██████████| 196/196 [00:23<00:00,  8.28it/s, accuracy=66.2, loss=1.15]\n"
     ]
    },
    {
     "name": "stdout",
     "output_type": "stream",
     "text": [
      "Epoch [11/50], Loss: 1.2041, Accuracy: 66.18%\n"
     ]
    },
    {
     "name": "stderr",
     "output_type": "stream",
     "text": [
      "Epoch 12/50: 100%|██████████| 196/196 [00:23<00:00,  8.37it/s, accuracy=66.6, loss=0.992]\n"
     ]
    },
    {
     "name": "stdout",
     "output_type": "stream",
     "text": [
      "Epoch [12/50], Loss: 1.1903, Accuracy: 66.60%\n"
     ]
    },
    {
     "name": "stderr",
     "output_type": "stream",
     "text": [
      "Epoch 13/50: 100%|██████████| 196/196 [00:21<00:00,  9.33it/s, accuracy=67.1, loss=1.02] \n"
     ]
    },
    {
     "name": "stdout",
     "output_type": "stream",
     "text": [
      "Epoch [13/50], Loss: 1.1713, Accuracy: 67.13%\n"
     ]
    },
    {
     "name": "stderr",
     "output_type": "stream",
     "text": [
      "Epoch 14/50: 100%|██████████| 196/196 [00:22<00:00,  8.67it/s, accuracy=67.5, loss=1.19] \n"
     ]
    },
    {
     "name": "stdout",
     "output_type": "stream",
     "text": [
      "Epoch [14/50], Loss: 1.1553, Accuracy: 67.54%\n"
     ]
    },
    {
     "name": "stderr",
     "output_type": "stream",
     "text": [
      "Epoch 15/50: 100%|██████████| 196/196 [00:22<00:00,  8.54it/s, accuracy=68, loss=1.07]   \n"
     ]
    },
    {
     "name": "stdout",
     "output_type": "stream",
     "text": [
      "Epoch [15/50], Loss: 1.1420, Accuracy: 67.96%\n"
     ]
    },
    {
     "name": "stderr",
     "output_type": "stream",
     "text": [
      "Epoch 16/50: 100%|██████████| 196/196 [00:23<00:00,  8.42it/s, accuracy=68.2, loss=0.989]\n"
     ]
    },
    {
     "name": "stdout",
     "output_type": "stream",
     "text": [
      "Epoch [16/50], Loss: 1.1318, Accuracy: 68.19%\n"
     ]
    },
    {
     "name": "stderr",
     "output_type": "stream",
     "text": [
      "Epoch 17/50: 100%|██████████| 196/196 [00:22<00:00,  8.65it/s, accuracy=68.2, loss=1.4]  \n"
     ]
    },
    {
     "name": "stdout",
     "output_type": "stream",
     "text": [
      "Epoch [17/50], Loss: 1.1245, Accuracy: 68.18%\n"
     ]
    },
    {
     "name": "stderr",
     "output_type": "stream",
     "text": [
      "Epoch 18/50: 100%|██████████| 196/196 [00:22<00:00,  8.70it/s, accuracy=68.5, loss=1.2]  \n"
     ]
    },
    {
     "name": "stdout",
     "output_type": "stream",
     "text": [
      "Epoch [18/50], Loss: 1.1098, Accuracy: 68.51%\n"
     ]
    },
    {
     "name": "stderr",
     "output_type": "stream",
     "text": [
      "Epoch 19/50: 100%|██████████| 196/196 [00:23<00:00,  8.33it/s, accuracy=68.6, loss=1.32] \n"
     ]
    },
    {
     "name": "stdout",
     "output_type": "stream",
     "text": [
      "Epoch [19/50], Loss: 1.1037, Accuracy: 68.62%\n"
     ]
    },
    {
     "name": "stderr",
     "output_type": "stream",
     "text": [
      "Epoch 20/50: 100%|██████████| 196/196 [00:23<00:00,  8.43it/s, accuracy=69, loss=1.14]   \n"
     ]
    },
    {
     "name": "stdout",
     "output_type": "stream",
     "text": [
      "Epoch [20/50], Loss: 1.0954, Accuracy: 69.01%\n"
     ]
    },
    {
     "name": "stderr",
     "output_type": "stream",
     "text": [
      "Epoch 21/50: 100%|██████████| 196/196 [00:23<00:00,  8.46it/s, accuracy=69.1, loss=0.946]\n"
     ]
    },
    {
     "name": "stdout",
     "output_type": "stream",
     "text": [
      "Epoch [21/50], Loss: 1.0860, Accuracy: 69.08%\n"
     ]
    },
    {
     "name": "stderr",
     "output_type": "stream",
     "text": [
      "Epoch 22/50: 100%|██████████| 196/196 [00:23<00:00,  8.49it/s, accuracy=69.5, loss=0.947]\n"
     ]
    },
    {
     "name": "stdout",
     "output_type": "stream",
     "text": [
      "Epoch [22/50], Loss: 1.0754, Accuracy: 69.48%\n"
     ]
    },
    {
     "name": "stderr",
     "output_type": "stream",
     "text": [
      "Epoch 23/50: 100%|██████████| 196/196 [00:22<00:00,  8.69it/s, accuracy=69.7, loss=1.2]  \n"
     ]
    },
    {
     "name": "stdout",
     "output_type": "stream",
     "text": [
      "Epoch [23/50], Loss: 1.0689, Accuracy: 69.75%\n"
     ]
    },
    {
     "name": "stderr",
     "output_type": "stream",
     "text": [
      "Epoch 24/50: 100%|██████████| 196/196 [00:23<00:00,  8.49it/s, accuracy=69.9, loss=1.05] \n"
     ]
    },
    {
     "name": "stdout",
     "output_type": "stream",
     "text": [
      "Epoch [24/50], Loss: 1.0642, Accuracy: 69.88%\n"
     ]
    },
    {
     "name": "stderr",
     "output_type": "stream",
     "text": [
      "Epoch 25/50: 100%|██████████| 196/196 [00:23<00:00,  8.43it/s, accuracy=70.1, loss=1.19] \n"
     ]
    },
    {
     "name": "stdout",
     "output_type": "stream",
     "text": [
      "Epoch [25/50], Loss: 1.0559, Accuracy: 70.06%\n"
     ]
    },
    {
     "name": "stderr",
     "output_type": "stream",
     "text": [
      "Epoch 26/50: 100%|██████████| 196/196 [00:23<00:00,  8.38it/s, accuracy=70.3, loss=1.3]  \n"
     ]
    },
    {
     "name": "stdout",
     "output_type": "stream",
     "text": [
      "Epoch [26/50], Loss: 1.0486, Accuracy: 70.29%\n"
     ]
    },
    {
     "name": "stderr",
     "output_type": "stream",
     "text": [
      "Epoch 27/50: 100%|██████████| 196/196 [00:22<00:00,  8.66it/s, accuracy=70.3, loss=0.967]\n"
     ]
    },
    {
     "name": "stdout",
     "output_type": "stream",
     "text": [
      "Epoch [27/50], Loss: 1.0421, Accuracy: 70.34%\n"
     ]
    },
    {
     "name": "stderr",
     "output_type": "stream",
     "text": [
      "Epoch 28/50: 100%|██████████| 196/196 [00:22<00:00,  8.69it/s, accuracy=70.5, loss=0.763]\n"
     ]
    },
    {
     "name": "stdout",
     "output_type": "stream",
     "text": [
      "Epoch [28/50], Loss: 1.0362, Accuracy: 70.54%\n"
     ]
    },
    {
     "name": "stderr",
     "output_type": "stream",
     "text": [
      "Epoch 29/50: 100%|██████████| 196/196 [00:21<00:00,  9.04it/s, accuracy=70.4, loss=1.26] \n"
     ]
    },
    {
     "name": "stdout",
     "output_type": "stream",
     "text": [
      "Epoch [29/50], Loss: 1.0332, Accuracy: 70.43%\n"
     ]
    },
    {
     "name": "stderr",
     "output_type": "stream",
     "text": [
      "Epoch 30/50: 100%|██████████| 196/196 [00:23<00:00,  8.48it/s, accuracy=70.8, loss=1.42] \n"
     ]
    },
    {
     "name": "stdout",
     "output_type": "stream",
     "text": [
      "Epoch [30/50], Loss: 1.0244, Accuracy: 70.80%\n"
     ]
    },
    {
     "name": "stderr",
     "output_type": "stream",
     "text": [
      "Epoch 31/50: 100%|██████████| 196/196 [00:23<00:00,  8.28it/s, accuracy=70.8, loss=1.11] \n"
     ]
    },
    {
     "name": "stdout",
     "output_type": "stream",
     "text": [
      "Epoch [31/50], Loss: 1.0207, Accuracy: 70.78%\n"
     ]
    },
    {
     "name": "stderr",
     "output_type": "stream",
     "text": [
      "Epoch 32/50: 100%|██████████| 196/196 [00:24<00:00,  7.96it/s, accuracy=70.9, loss=1.27] \n"
     ]
    },
    {
     "name": "stdout",
     "output_type": "stream",
     "text": [
      "Epoch [32/50], Loss: 1.0164, Accuracy: 70.91%\n"
     ]
    },
    {
     "name": "stderr",
     "output_type": "stream",
     "text": [
      "Epoch 33/50: 100%|██████████| 196/196 [00:21<00:00,  9.04it/s, accuracy=71.2, loss=1.26] \n"
     ]
    },
    {
     "name": "stdout",
     "output_type": "stream",
     "text": [
      "Epoch [33/50], Loss: 1.0120, Accuracy: 71.15%\n"
     ]
    },
    {
     "name": "stderr",
     "output_type": "stream",
     "text": [
      "Epoch 34/50: 100%|██████████| 196/196 [00:23<00:00,  8.39it/s, accuracy=71.3, loss=1.02] \n"
     ]
    },
    {
     "name": "stdout",
     "output_type": "stream",
     "text": [
      "Epoch [34/50], Loss: 1.0048, Accuracy: 71.31%\n"
     ]
    },
    {
     "name": "stderr",
     "output_type": "stream",
     "text": [
      "Epoch 35/50: 100%|██████████| 196/196 [00:23<00:00,  8.38it/s, accuracy=71.2, loss=0.971]\n"
     ]
    },
    {
     "name": "stdout",
     "output_type": "stream",
     "text": [
      "Epoch [35/50], Loss: 1.0024, Accuracy: 71.25%\n"
     ]
    },
    {
     "name": "stderr",
     "output_type": "stream",
     "text": [
      "Epoch 36/50: 100%|██████████| 196/196 [00:23<00:00,  8.35it/s, accuracy=71.2, loss=0.889]\n"
     ]
    },
    {
     "name": "stdout",
     "output_type": "stream",
     "text": [
      "Epoch [36/50], Loss: 0.9969, Accuracy: 71.24%\n"
     ]
    },
    {
     "name": "stderr",
     "output_type": "stream",
     "text": [
      "Epoch 37/50: 100%|██████████| 196/196 [00:24<00:00,  8.09it/s, accuracy=71.5, loss=1.23] \n"
     ]
    },
    {
     "name": "stdout",
     "output_type": "stream",
     "text": [
      "Epoch [37/50], Loss: 0.9942, Accuracy: 71.54%\n"
     ]
    },
    {
     "name": "stderr",
     "output_type": "stream",
     "text": [
      "Epoch 38/50: 100%|██████████| 196/196 [00:23<00:00,  8.49it/s, accuracy=71.5, loss=1.12] \n"
     ]
    },
    {
     "name": "stdout",
     "output_type": "stream",
     "text": [
      "Epoch [38/50], Loss: 0.9903, Accuracy: 71.53%\n"
     ]
    },
    {
     "name": "stderr",
     "output_type": "stream",
     "text": [
      "Epoch 39/50: 100%|██████████| 196/196 [00:23<00:00,  8.25it/s, accuracy=71.7, loss=1.03] \n"
     ]
    },
    {
     "name": "stdout",
     "output_type": "stream",
     "text": [
      "Epoch [39/50], Loss: 0.9864, Accuracy: 71.66%\n"
     ]
    },
    {
     "name": "stderr",
     "output_type": "stream",
     "text": [
      "Epoch 40/50: 100%|██████████| 196/196 [00:22<00:00,  8.53it/s, accuracy=71.8, loss=1.18] \n"
     ]
    },
    {
     "name": "stdout",
     "output_type": "stream",
     "text": [
      "Epoch [40/50], Loss: 0.9839, Accuracy: 71.79%\n"
     ]
    },
    {
     "name": "stderr",
     "output_type": "stream",
     "text": [
      "Epoch 41/50: 100%|██████████| 196/196 [00:21<00:00,  9.05it/s, accuracy=72, loss=0.924]  \n"
     ]
    },
    {
     "name": "stdout",
     "output_type": "stream",
     "text": [
      "Epoch [41/50], Loss: 0.9780, Accuracy: 72.02%\n"
     ]
    },
    {
     "name": "stderr",
     "output_type": "stream",
     "text": [
      "Epoch 42/50: 100%|██████████| 196/196 [00:21<00:00,  9.00it/s, accuracy=72, loss=1.1]    \n"
     ]
    },
    {
     "name": "stdout",
     "output_type": "stream",
     "text": [
      "Epoch [42/50], Loss: 0.9769, Accuracy: 72.01%\n"
     ]
    },
    {
     "name": "stderr",
     "output_type": "stream",
     "text": [
      "Epoch 43/50: 100%|██████████| 196/196 [00:21<00:00,  9.16it/s, accuracy=72, loss=1.29]   \n"
     ]
    },
    {
     "name": "stdout",
     "output_type": "stream",
     "text": [
      "Epoch [43/50], Loss: 0.9719, Accuracy: 72.03%\n"
     ]
    },
    {
     "name": "stderr",
     "output_type": "stream",
     "text": [
      "Epoch 44/50: 100%|██████████| 196/196 [00:22<00:00,  8.86it/s, accuracy=72.1, loss=1.08] \n"
     ]
    },
    {
     "name": "stdout",
     "output_type": "stream",
     "text": [
      "Epoch [44/50], Loss: 0.9697, Accuracy: 72.05%\n"
     ]
    },
    {
     "name": "stderr",
     "output_type": "stream",
     "text": [
      "Epoch 45/50: 100%|██████████| 196/196 [00:22<00:00,  8.67it/s, accuracy=72.2, loss=1.32] \n"
     ]
    },
    {
     "name": "stdout",
     "output_type": "stream",
     "text": [
      "Epoch [45/50], Loss: 0.9669, Accuracy: 72.23%\n"
     ]
    },
    {
     "name": "stderr",
     "output_type": "stream",
     "text": [
      "Epoch 46/50: 100%|██████████| 196/196 [00:22<00:00,  8.68it/s, accuracy=72.4, loss=1.02] \n"
     ]
    },
    {
     "name": "stdout",
     "output_type": "stream",
     "text": [
      "Epoch [46/50], Loss: 0.9604, Accuracy: 72.38%\n"
     ]
    },
    {
     "name": "stderr",
     "output_type": "stream",
     "text": [
      "Epoch 47/50: 100%|██████████| 196/196 [00:22<00:00,  8.66it/s, accuracy=72.5, loss=0.836]\n"
     ]
    },
    {
     "name": "stdout",
     "output_type": "stream",
     "text": [
      "Epoch [47/50], Loss: 0.9560, Accuracy: 72.49%\n"
     ]
    },
    {
     "name": "stderr",
     "output_type": "stream",
     "text": [
      "Epoch 48/50: 100%|██████████| 196/196 [00:22<00:00,  8.74it/s, accuracy=72.6, loss=1.04] \n"
     ]
    },
    {
     "name": "stdout",
     "output_type": "stream",
     "text": [
      "Epoch [48/50], Loss: 0.9524, Accuracy: 72.59%\n"
     ]
    },
    {
     "name": "stderr",
     "output_type": "stream",
     "text": [
      "Epoch 49/50: 100%|██████████| 196/196 [00:21<00:00,  9.09it/s, accuracy=72.4, loss=0.836]\n"
     ]
    },
    {
     "name": "stdout",
     "output_type": "stream",
     "text": [
      "Epoch [49/50], Loss: 0.9527, Accuracy: 72.41%\n"
     ]
    },
    {
     "name": "stderr",
     "output_type": "stream",
     "text": [
      "Epoch 50/50: 100%|██████████| 196/196 [00:22<00:00,  8.59it/s, accuracy=72.5, loss=0.927]"
     ]
    },
    {
     "name": "stdout",
     "output_type": "stream",
     "text": [
      "Epoch [50/50], Loss: 0.9474, Accuracy: 72.46%\n"
     ]
    },
    {
     "name": "stderr",
     "output_type": "stream",
     "text": [
      "\n"
     ]
    },
    {
     "ename": "NameError",
     "evalue": "name 'evaluate' is not defined",
     "output_type": "error",
     "traceback": [
      "\u001b[0;31m---------------------------------------------------------------------------\u001b[0m",
      "\u001b[0;31mNameError\u001b[0m                                 Traceback (most recent call last)",
      "Cell \u001b[0;32mIn[16], line 20\u001b[0m\n\u001b[1;32m     17\u001b[0m train_linear_classifier(pretrained_model, train_loader, criterion, optimizer, epochs\u001b[38;5;241m=\u001b[39m\u001b[38;5;241m50\u001b[39m)\n\u001b[1;32m     19\u001b[0m \u001b[38;5;66;03m# 评估模型性能\u001b[39;00m\n\u001b[0;32m---> 20\u001b[0m test_loss, test_accuracy \u001b[38;5;241m=\u001b[39m \u001b[43mevaluate\u001b[49m(pretrained_model, test_loader, criterion)\n",
      "\u001b[0;31mNameError\u001b[0m: name 'evaluate' is not defined"
     ]
    }
   ],
   "source": [
    "# 加载在 ImageNet 上预训练的 ResNet-18 模型\n",
    "pretrained_model = resnet18(pretrained=True).to(device)\n",
    "\n",
    "# 冻结编码器部分，只训练线性分类器\n",
    "for param in pretrained_model.parameters():\n",
    "    param.requires_grad = False\n",
    "\n",
    "# 替换全连接层，调整输出维度为 100\n",
    "num_features = pretrained_model.fc.in_features\n",
    "pretrained_model.fc = nn.Linear(num_features, 100).to(device)\n",
    "\n",
    "# 定义损失函数和优化器\n",
    "criterion = nn.CrossEntropyLoss()\n",
    "optimizer = optim.Adam(pretrained_model.fc.parameters(), lr=1e-3)\n",
    "\n"
   ]
  },
  {
   "cell_type": "markdown",
   "id": "2ce9b06d-b144-4db0-b8a9-f3ba0b778c60",
   "metadata": {},
   "source": []
  },
  {
   "cell_type": "markdown",
   "id": "7f8d7121-b64e-4ca9-9aa7-e5037443c748",
   "metadata": {},
   "source": [
    "## 2.2 从零开始训练"
   ]
  },
  {
   "cell_type": "code",
   "execution_count": 19,
   "id": "47a78101-2d6b-46d9-84e9-1a927e3eeec3",
   "metadata": {},
   "outputs": [
    {
     "name": "stderr",
     "output_type": "stream",
     "text": [
      "Epoch 1/50: 100%|██████████| 196/196 [00:39<00:00,  4.91it/s, accuracy=13.4, loss=3.54]\n"
     ]
    },
    {
     "name": "stdout",
     "output_type": "stream",
     "text": [
      "Epoch [1/50], Loss: 3.6796, Accuracy: 13.39%\n"
     ]
    },
    {
     "name": "stderr",
     "output_type": "stream",
     "text": [
      "Epoch 2/50: 100%|██████████| 196/196 [00:40<00:00,  4.85it/s, accuracy=26.6, loss=2.77]\n"
     ]
    },
    {
     "name": "stdout",
     "output_type": "stream",
     "text": [
      "Epoch [2/50], Loss: 2.9125, Accuracy: 26.60%\n"
     ]
    },
    {
     "name": "stderr",
     "output_type": "stream",
     "text": [
      "Epoch 3/50: 100%|██████████| 196/196 [00:39<00:00,  4.99it/s, accuracy=38.9, loss=2.17]\n"
     ]
    },
    {
     "name": "stdout",
     "output_type": "stream",
     "text": [
      "Epoch [3/50], Loss: 2.3094, Accuracy: 38.94%\n"
     ]
    },
    {
     "name": "stderr",
     "output_type": "stream",
     "text": [
      "Epoch 4/50: 100%|██████████| 196/196 [00:37<00:00,  5.22it/s, accuracy=48.1, loss=1.73]\n"
     ]
    },
    {
     "name": "stdout",
     "output_type": "stream",
     "text": [
      "Epoch [4/50], Loss: 1.8884, Accuracy: 48.13%\n"
     ]
    },
    {
     "name": "stderr",
     "output_type": "stream",
     "text": [
      "Epoch 5/50: 100%|██████████| 196/196 [00:39<00:00,  4.96it/s, accuracy=55.7, loss=1.43]\n"
     ]
    },
    {
     "name": "stdout",
     "output_type": "stream",
     "text": [
      "Epoch [5/50], Loss: 1.5784, Accuracy: 55.68%\n"
     ]
    },
    {
     "name": "stderr",
     "output_type": "stream",
     "text": [
      "Epoch 6/50: 100%|██████████| 196/196 [00:39<00:00,  4.91it/s, accuracy=61.8, loss=1.21]\n"
     ]
    },
    {
     "name": "stdout",
     "output_type": "stream",
     "text": [
      "Epoch [6/50], Loss: 1.3235, Accuracy: 61.78%\n"
     ]
    },
    {
     "name": "stderr",
     "output_type": "stream",
     "text": [
      "Epoch 7/50: 100%|██████████| 196/196 [00:39<00:00,  4.97it/s, accuracy=68, loss=0.998]  \n"
     ]
    },
    {
     "name": "stdout",
     "output_type": "stream",
     "text": [
      "Epoch [7/50], Loss: 1.0938, Accuracy: 67.96%\n"
     ]
    },
    {
     "name": "stderr",
     "output_type": "stream",
     "text": [
      "Epoch 8/50: 100%|██████████| 196/196 [00:40<00:00,  4.83it/s, accuracy=74.1, loss=0.983]\n"
     ]
    },
    {
     "name": "stdout",
     "output_type": "stream",
     "text": [
      "Epoch [8/50], Loss: 0.8643, Accuracy: 74.14%\n"
     ]
    },
    {
     "name": "stderr",
     "output_type": "stream",
     "text": [
      "Epoch 9/50: 100%|██████████| 196/196 [00:39<00:00,  5.03it/s, accuracy=80.1, loss=0.838]\n"
     ]
    },
    {
     "name": "stdout",
     "output_type": "stream",
     "text": [
      "Epoch [9/50], Loss: 0.6572, Accuracy: 80.12%\n"
     ]
    },
    {
     "name": "stderr",
     "output_type": "stream",
     "text": [
      "Epoch 10/50: 100%|██████████| 196/196 [00:38<00:00,  5.11it/s, accuracy=86.8, loss=0.777]\n"
     ]
    },
    {
     "name": "stdout",
     "output_type": "stream",
     "text": [
      "Epoch [10/50], Loss: 0.4419, Accuracy: 86.77%\n"
     ]
    },
    {
     "name": "stderr",
     "output_type": "stream",
     "text": [
      "Epoch 11/50: 100%|██████████| 196/196 [00:39<00:00,  4.97it/s, accuracy=92.5, loss=0.494]\n"
     ]
    },
    {
     "name": "stdout",
     "output_type": "stream",
     "text": [
      "Epoch [11/50], Loss: 0.2682, Accuracy: 92.47%\n"
     ]
    },
    {
     "name": "stderr",
     "output_type": "stream",
     "text": [
      "Epoch 12/50: 100%|██████████| 196/196 [00:38<00:00,  5.04it/s, accuracy=96.4, loss=0.229] \n"
     ]
    },
    {
     "name": "stdout",
     "output_type": "stream",
     "text": [
      "Epoch [12/50], Loss: 0.1482, Accuracy: 96.36%\n"
     ]
    },
    {
     "name": "stderr",
     "output_type": "stream",
     "text": [
      "Epoch 13/50: 100%|██████████| 196/196 [00:39<00:00,  4.99it/s, accuracy=98.4, loss=0.121] \n"
     ]
    },
    {
     "name": "stdout",
     "output_type": "stream",
     "text": [
      "Epoch [13/50], Loss: 0.0765, Accuracy: 98.44%\n"
     ]
    },
    {
     "name": "stderr",
     "output_type": "stream",
     "text": [
      "Epoch 14/50: 100%|██████████| 196/196 [00:39<00:00,  4.92it/s, accuracy=99.4, loss=0.0394]\n"
     ]
    },
    {
     "name": "stdout",
     "output_type": "stream",
     "text": [
      "Epoch [14/50], Loss: 0.0378, Accuracy: 99.44%\n"
     ]
    },
    {
     "name": "stderr",
     "output_type": "stream",
     "text": [
      "Epoch 15/50: 100%|██████████| 196/196 [00:39<00:00,  4.99it/s, accuracy=99.7, loss=0.0143] \n"
     ]
    },
    {
     "name": "stdout",
     "output_type": "stream",
     "text": [
      "Epoch [15/50], Loss: 0.0219, Accuracy: 99.71%\n"
     ]
    },
    {
     "name": "stderr",
     "output_type": "stream",
     "text": [
      "Epoch 16/50: 100%|██████████| 196/196 [00:37<00:00,  5.16it/s, accuracy=99.9, loss=0.0115] \n"
     ]
    },
    {
     "name": "stdout",
     "output_type": "stream",
     "text": [
      "Epoch [16/50], Loss: 0.0116, Accuracy: 99.90%\n"
     ]
    },
    {
     "name": "stderr",
     "output_type": "stream",
     "text": [
      "Epoch 17/50: 100%|██████████| 196/196 [00:40<00:00,  4.87it/s, accuracy=99.9, loss=0.00556]\n"
     ]
    },
    {
     "name": "stdout",
     "output_type": "stream",
     "text": [
      "Epoch [17/50], Loss: 0.0080, Accuracy: 99.93%\n"
     ]
    },
    {
     "name": "stderr",
     "output_type": "stream",
     "text": [
      "Epoch 18/50: 100%|██████████| 196/196 [00:39<00:00,  4.95it/s, accuracy=100, loss=0.00361]\n"
     ]
    },
    {
     "name": "stdout",
     "output_type": "stream",
     "text": [
      "Epoch [18/50], Loss: 0.0038, Accuracy: 99.96%\n"
     ]
    },
    {
     "name": "stderr",
     "output_type": "stream",
     "text": [
      "Epoch 19/50: 100%|██████████| 196/196 [00:40<00:00,  4.83it/s, accuracy=99.9, loss=0.0037] \n"
     ]
    },
    {
     "name": "stdout",
     "output_type": "stream",
     "text": [
      "Epoch [19/50], Loss: 0.0046, Accuracy: 99.94%\n"
     ]
    },
    {
     "name": "stderr",
     "output_type": "stream",
     "text": [
      "Epoch 20/50: 100%|██████████| 196/196 [00:38<00:00,  5.11it/s, accuracy=89.5, loss=1.22]  \n"
     ]
    },
    {
     "name": "stdout",
     "output_type": "stream",
     "text": [
      "Epoch [20/50], Loss: 0.3582, Accuracy: 89.54%\n"
     ]
    },
    {
     "name": "stderr",
     "output_type": "stream",
     "text": [
      "Epoch 23/50: 100%|██████████| 196/196 [00:39<00:00,  4.96it/s, accuracy=99.8, loss=0.00612]\n"
     ]
    },
    {
     "name": "stdout",
     "output_type": "stream",
     "text": [
      "Epoch [23/50], Loss: 0.0146, Accuracy: 99.84%\n"
     ]
    },
    {
     "name": "stderr",
     "output_type": "stream",
     "text": [
      "Epoch 24/50: 100%|██████████| 196/196 [00:38<00:00,  5.11it/s, accuracy=99.9, loss=0.00466]\n"
     ]
    },
    {
     "name": "stdout",
     "output_type": "stream",
     "text": [
      "Epoch [24/50], Loss: 0.0058, Accuracy: 99.94%\n"
     ]
    },
    {
     "name": "stderr",
     "output_type": "stream",
     "text": [
      "Epoch 25/50: 100%|██████████| 196/196 [00:38<00:00,  5.07it/s, accuracy=100, loss=0.00592]\n"
     ]
    },
    {
     "name": "stdout",
     "output_type": "stream",
     "text": [
      "Epoch [25/50], Loss: 0.0038, Accuracy: 99.96%\n"
     ]
    },
    {
     "name": "stderr",
     "output_type": "stream",
     "text": [
      "Epoch 26/50: 100%|██████████| 196/196 [00:39<00:00,  4.96it/s, accuracy=100, loss=0.0022]  \n"
     ]
    },
    {
     "name": "stdout",
     "output_type": "stream",
     "text": [
      "Epoch [26/50], Loss: 0.0038, Accuracy: 99.95%\n"
     ]
    },
    {
     "name": "stderr",
     "output_type": "stream",
     "text": [
      "Epoch 27/50: 100%|██████████| 196/196 [00:39<00:00,  4.96it/s, accuracy=100, loss=0.00125] \n"
     ]
    },
    {
     "name": "stdout",
     "output_type": "stream",
     "text": [
      "Epoch [27/50], Loss: 0.0026, Accuracy: 99.96%\n"
     ]
    },
    {
     "name": "stderr",
     "output_type": "stream",
     "text": [
      "Epoch 28/50: 100%|██████████| 196/196 [00:39<00:00,  4.90it/s, accuracy=100, loss=0.00196] \n"
     ]
    },
    {
     "name": "stdout",
     "output_type": "stream",
     "text": [
      "Epoch [28/50], Loss: 0.0020, Accuracy: 99.97%\n"
     ]
    },
    {
     "name": "stderr",
     "output_type": "stream",
     "text": [
      "Epoch 29/50: 100%|██████████| 196/196 [00:39<00:00,  4.97it/s, accuracy=100, loss=0.000726]\n"
     ]
    },
    {
     "name": "stdout",
     "output_type": "stream",
     "text": [
      "Epoch [29/50], Loss: 0.0016, Accuracy: 99.98%\n"
     ]
    },
    {
     "name": "stderr",
     "output_type": "stream",
     "text": [
      "Epoch 30/50: 100%|██████████| 196/196 [00:37<00:00,  5.20it/s, accuracy=100, loss=0.000821]\n"
     ]
    },
    {
     "name": "stdout",
     "output_type": "stream",
     "text": [
      "Epoch [30/50], Loss: 0.0018, Accuracy: 99.97%\n"
     ]
    },
    {
     "name": "stderr",
     "output_type": "stream",
     "text": [
      "Epoch 31/50:  39%|███▉      | 76/196 [00:15<00:20,  5.73it/s, accuracy=100, loss=0.0123]  IOPub message rate exceeded.\n",
      "The Jupyter server will temporarily stop sending output\n",
      "to the client in order to avoid crashing it.\n",
      "To change this limit, set the config variable\n",
      "`--ServerApp.iopub_msg_rate_limit`.\n",
      "\n",
      "Current values:\n",
      "ServerApp.iopub_msg_rate_limit=1000.0 (msgs/sec)\n",
      "ServerApp.rate_limit_window=3.0 (secs)\n",
      "\n",
      "Epoch 36/50: 100%|██████████| 196/196 [00:39<00:00,  4.97it/s, accuracy=100, loss=0.000624]\n"
     ]
    },
    {
     "name": "stdout",
     "output_type": "stream",
     "text": [
      "Epoch [36/50], Loss: 0.0010, Accuracy: 99.98%\n"
     ]
    },
    {
     "name": "stderr",
     "output_type": "stream",
     "text": [
      "Epoch 37/50: 100%|██████████| 196/196 [00:38<00:00,  5.07it/s, accuracy=100, loss=0.000307]\n"
     ]
    },
    {
     "name": "stdout",
     "output_type": "stream",
     "text": [
      "Epoch [37/50], Loss: 0.0009, Accuracy: 99.98%\n"
     ]
    },
    {
     "name": "stderr",
     "output_type": "stream",
     "text": [
      "Epoch 38/50: 100%|██████████| 196/196 [00:39<00:00,  4.96it/s, accuracy=100, loss=0.000367]\n"
     ]
    },
    {
     "name": "stdout",
     "output_type": "stream",
     "text": [
      "Epoch [38/50], Loss: 0.0010, Accuracy: 99.97%\n"
     ]
    },
    {
     "name": "stderr",
     "output_type": "stream",
     "text": [
      "Epoch 39/50: 100%|██████████| 196/196 [00:39<00:00,  4.98it/s, accuracy=100, loss=0.00054] \n"
     ]
    },
    {
     "name": "stdout",
     "output_type": "stream",
     "text": [
      "Epoch [39/50], Loss: 0.0008, Accuracy: 99.98%\n"
     ]
    },
    {
     "name": "stderr",
     "output_type": "stream",
     "text": [
      "Epoch 40/50: 100%|██████████| 196/196 [00:38<00:00,  5.16it/s, accuracy=100, loss=0.000477]\n"
     ]
    },
    {
     "name": "stdout",
     "output_type": "stream",
     "text": [
      "Epoch [40/50], Loss: 0.0008, Accuracy: 99.98%\n"
     ]
    },
    {
     "name": "stderr",
     "output_type": "stream",
     "text": [
      "Epoch 41/50: 100%|██████████| 196/196 [00:38<00:00,  5.08it/s, accuracy=100, loss=0.000323]\n"
     ]
    },
    {
     "name": "stdout",
     "output_type": "stream",
     "text": [
      "Epoch [41/50], Loss: 0.0009, Accuracy: 99.98%\n"
     ]
    },
    {
     "name": "stderr",
     "output_type": "stream",
     "text": [
      "Epoch 42/50: 100%|██████████| 196/196 [00:38<00:00,  5.06it/s, accuracy=100, loss=0.000351]\n"
     ]
    },
    {
     "name": "stdout",
     "output_type": "stream",
     "text": [
      "Epoch [42/50], Loss: 0.0009, Accuracy: 99.97%\n"
     ]
    },
    {
     "name": "stderr",
     "output_type": "stream",
     "text": [
      "Epoch 43/50: 100%|██████████| 196/196 [00:37<00:00,  5.27it/s, accuracy=100, loss=0.000159]\n"
     ]
    },
    {
     "name": "stdout",
     "output_type": "stream",
     "text": [
      "Epoch [43/50], Loss: 0.0006, Accuracy: 99.98%\n"
     ]
    },
    {
     "name": "stderr",
     "output_type": "stream",
     "text": [
      "Epoch 44/50: 100%|██████████| 196/196 [00:37<00:00,  5.18it/s, accuracy=77.2, loss=0.898] \n"
     ]
    },
    {
     "name": "stdout",
     "output_type": "stream",
     "text": [
      "Epoch [44/50], Loss: 0.8383, Accuracy: 77.23%\n"
     ]
    },
    {
     "name": "stderr",
     "output_type": "stream",
     "text": [
      "Epoch 45/50: 100%|██████████| 196/196 [00:37<00:00,  5.28it/s, accuracy=90, loss=0.244]  \n"
     ]
    },
    {
     "name": "stdout",
     "output_type": "stream",
     "text": [
      "Epoch [45/50], Loss: 0.3189, Accuracy: 89.96%\n"
     ]
    },
    {
     "name": "stderr",
     "output_type": "stream",
     "text": [
      "Epoch 46/50: 100%|██████████| 196/196 [00:38<00:00,  5.12it/s, accuracy=98.7, loss=0.0268]\n"
     ]
    },
    {
     "name": "stdout",
     "output_type": "stream",
     "text": [
      "Epoch [46/50], Loss: 0.0529, Accuracy: 98.71%\n"
     ]
    },
    {
     "name": "stderr",
     "output_type": "stream",
     "text": [
      "Epoch 47/50: 100%|██████████| 196/196 [00:38<00:00,  5.09it/s, accuracy=99.9, loss=0.0085] \n"
     ]
    },
    {
     "name": "stdout",
     "output_type": "stream",
     "text": [
      "Epoch [47/50], Loss: 0.0103, Accuracy: 99.89%\n"
     ]
    },
    {
     "name": "stderr",
     "output_type": "stream",
     "text": [
      "Epoch 48/50: 100%|██████████| 196/196 [00:37<00:00,  5.21it/s, accuracy=100, loss=0.00273]\n"
     ]
    },
    {
     "name": "stdout",
     "output_type": "stream",
     "text": [
      "Epoch [48/50], Loss: 0.0038, Accuracy: 99.96%\n"
     ]
    },
    {
     "name": "stderr",
     "output_type": "stream",
     "text": [
      "Epoch 49/50: 100%|██████████| 196/196 [00:36<00:00,  5.34it/s, accuracy=100, loss=0.00219] \n"
     ]
    },
    {
     "name": "stdout",
     "output_type": "stream",
     "text": [
      "Epoch [49/50], Loss: 0.0026, Accuracy: 99.96%\n"
     ]
    },
    {
     "name": "stderr",
     "output_type": "stream",
     "text": [
      "Epoch 50/50: 100%|██████████| 196/196 [00:38<00:00,  5.05it/s, accuracy=100, loss=0.00182] "
     ]
    },
    {
     "name": "stdout",
     "output_type": "stream",
     "text": [
      "Epoch [50/50], Loss: 0.0018, Accuracy: 99.97%\n"
     ]
    },
    {
     "name": "stderr",
     "output_type": "stream",
     "text": [
      "\n"
     ]
    }
   ],
   "source": [
    "# 加载未经过任何预训练的 ResNet-18 模型\n",
    "scratch_model = resnet18(weights=None).to(device)\n",
    "\n",
    "# 替换全连接层，调整输出维度为 100\n",
    "num_features = scratch_model.fc.in_features\n",
    "scratch_model.fc = nn.Linear(num_features, 100).to(device)\n",
    "\n",
    "# 定义损失函数和优化器\n",
    "criterion = nn.CrossEntropyLoss()\n",
    "optimizer = optim.Adam(scratch_model.parameters(), lr=1e-3)\n",
    "\n",
    "# 从零开始训练模型\n",
    "train_linear_classifier(scratch_model, train_loader, criterion, optimizer, epochs=50)\n"
   ]
  },
  {
   "cell_type": "code",
   "execution_count": null,
   "id": "051b35a3-4d8a-423e-bde7-456e1514ed7f",
   "metadata": {},
   "outputs": [],
   "source": []
  },
  {
   "cell_type": "code",
   "execution_count": null,
   "id": "eaf4c450-b189-4d32-bc0f-5986c70c60b8",
   "metadata": {},
   "outputs": [],
   "source": []
  },
  {
   "cell_type": "code",
   "execution_count": null,
   "id": "35bcb9fa-6b72-4ba1-90f1-e44ed9dfa5aa",
   "metadata": {},
   "outputs": [],
   "source": []
  },
  {
   "cell_type": "code",
   "execution_count": null,
   "id": "ad2a74d6-3d53-4b76-91df-8ea83b33276a",
   "metadata": {},
   "outputs": [],
   "source": []
  },
  {
   "cell_type": "code",
   "execution_count": null,
   "id": "6dcc126c-52c6-4d63-89d8-972a5aa93e79",
   "metadata": {},
   "outputs": [],
   "source": []
  },
  {
   "cell_type": "markdown",
   "id": "5f1a9b85-a7b4-4721-8b19-7d87e4c17f85",
   "metadata": {},
   "source": [
    "# 3. 评估有监督与无监督"
   ]
  },
  {
   "cell_type": "code",
   "execution_count": null,
   "id": "e8d1f491-9dfc-4d84-85f7-085840376510",
   "metadata": {},
   "outputs": [],
   "source": [
    "def evaluate(model, dataloader, criterion):\n",
    "    model.eval()\n",
    "    correct = 0\n",
    "    total = 0\n",
    "    test_loss = 0\n",
    "    with torch.no_grad():\n",
    "        for images, labels in dataloader:\n",
    "            images, labels = images.to(device), labels.to(device)\n",
    "            outputs = model(images)\n",
    "            loss = criterion(outputs, labels)\n",
    "            test_loss += loss.item()\n",
    "            _, predicted = outputs.max(1)\n",
    "            total += labels.size(0)\n",
    "            correct += predicted.eq(labels).sum().item()\n",
    "    accuracy = 100. * correct / total\n",
    "    test_loss /= len(dataloader)\n",
    "    print(f'Test Loss: {test_loss:.4f}, Test Accuracy: {accuracy:.2f}%')\n",
    "    return test_loss, accuracy\n",
    "\n",
    "test_loss, test_accuracy = evaluate(linear_classifier, test_loader, criterion)\n"
   ]
  },
  {
   "cell_type": "code",
   "execution_count": null,
   "id": "03c717ba-5491-4476-991b-4cb8af3e952b",
   "metadata": {},
   "outputs": [],
   "source": [
    "test_loss, test_accuracy = evaluate(pretrained_model, test_loader, criterion)"
   ]
  },
  {
   "cell_type": "code",
   "execution_count": null,
   "id": "ac4bf704-c26c-45c7-91e9-2a911816b68b",
   "metadata": {},
   "outputs": [],
   "source": [
    "test_loss, test_accuracy = evaluate(scratch_model, test_loader, criterion)"
   ]
  }
 ],
 "metadata": {
  "kernelspec": {
   "display_name": "Python 3 (ipykernel)",
   "language": "python",
   "name": "python3"
  },
  "language_info": {
   "codemirror_mode": {
    "name": "ipython",
    "version": 3
   },
   "file_extension": ".py",
   "mimetype": "text/x-python",
   "name": "python",
   "nbconvert_exporter": "python",
   "pygments_lexer": "ipython3",
   "version": "3.12.3"
  }
 },
 "nbformat": 4,
 "nbformat_minor": 5
}
